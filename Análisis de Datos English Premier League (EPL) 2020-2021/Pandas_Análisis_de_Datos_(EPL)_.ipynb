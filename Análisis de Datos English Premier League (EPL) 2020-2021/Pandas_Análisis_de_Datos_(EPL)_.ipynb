{
  "cells": [
    {
      "cell_type": "markdown",
      "metadata": {
        "id": "v1zcnMH1DgD9"
      },
      "source": [
        "<center><img src=\"https://futbolete.com/apuestas/wp-content/uploads/2021/01/premier-league.png\" width=\"600\" height=\"4200\"></center>"
      ]
    },
    {
      "cell_type": "markdown",
      "metadata": {
        "id": "70Je6b34DgD7"
      },
      "source": [
        "![linea 1](https://user-images.githubusercontent.com/19308295/115926252-2b8a0c00-a448-11eb-9d9c-b43beaf0ff68.png)"
      ]
    },
    {
      "cell_type": "markdown",
      "metadata": {
        "id": "3qbnpvQTDgDr"
      },
      "source": [
        "# Descripción:"
      ]
    },
    {
      "cell_type": "markdown",
      "metadata": {
        "id": "GNqriKiaDgDu"
      },
      "source": [
        "<div class=\"alert alert-info\">\n",
        "\n",
        "En este notebook se explicarán Análisis de Datos con la librería **Pandas**  en el lenguaje de programación Python. \n",
        "    \n",
        "</div>\n",
        "\n"
      ]
    },
    {
      "cell_type": "markdown",
      "metadata": {
        "id": "OnNxnwamDgD4"
      },
      "source": [
        "\n",
        "[Análisis de Datos English Premier League (EPL)](#Análisis-de-Datos-English-Premier-League-(EPL)-2020-2021)<br>\n",
        "\n",
        "\n",
        "\n",
        "[BIBLIOGRAFÍA](#BIBLIOGRAFÍA)<br>"
      ]
    },
    {
      "cell_type": "markdown",
      "metadata": {
        "id": "d1W-pcf4DgEA"
      },
      "source": [
        "![linea 2](https://user-images.githubusercontent.com/19308295/115926262-2fb62980-a448-11eb-8189-c2f10e499944.png)"
      ]
    },
    {
      "cell_type": "markdown",
      "metadata": {
        "id": "UZePRHRRDgEE"
      },
      "source": [
        "<div class=\"alert alert-info\"> La <strong>Premier League</strong>, también conocida en Inglaterra como The Premiership, es la máxima categoría del sistema de ligas de fútbol de Inglaterra. Comenzó a disputarse en la temporada 1992-93</div>"
      ]
    },
    {
      "cell_type": "markdown",
      "metadata": {
        "id": "NfoC_wuCDgEG"
      },
      "source": [
        "<div class=\"alert alert-info\"> El análisis se realiza de la ultima temporada <strong>2020-2021</strong> de la <strong> Premier League</strong>\n",
        "\n",
        "La Colección de datos utilizada de la temporada <strong>2020-2021</strong> de la <strong> Premier League</strong>\n",
        "fueron descargados desde:\n",
        "\n",
        "</div>\n",
        "\n",
        "https://bit.ly/3aRnGVx"
      ]
    },
    {
      "cell_type": "markdown",
      "metadata": {
        "id": "6zfypHT8DgEL"
      },
      "source": [
        "![linea 2](https://user-images.githubusercontent.com/19308295/115926262-2fb62980-a448-11eb-8189-c2f10e499944.png)"
      ]
    },
    {
      "cell_type": "markdown",
      "metadata": {
        "id": "ifogHG8yDgEN"
      },
      "source": [
        "## <font color=#33A5FF>****Análisis de Datos English Premier League (EPL) 2020-2021****<tfont>"
      ]
    },
    {
      "cell_type": "code",
      "execution_count": null,
      "metadata": {
        "id": "B5sJiH_ADgEP"
      },
      "outputs": [],
      "source": [
        "#Librerías\n",
        "import numpy as np\n",
        "import pandas as pd\n",
        "import matplotlib.pyplot as plt\n",
        "import seaborn as sns\n",
        "\n",
        "%matplotlib inline"
      ]
    },
    {
      "cell_type": "markdown",
      "metadata": {
        "id": "FDe5vTbNDgES"
      },
      "source": [
        "Cargamos los **datos** para luego ***limpiar nuestros datos***."
      ]
    },
    {
      "cell_type": "code",
      "execution_count": null,
      "metadata": {
        "id": "oL5wFt2hDgEU"
      },
      "outputs": [],
      "source": [
        "#cargamos un archivo CSV separado por comas\n",
        "epl = pd.read_csv('EPL_20_21.csv')"
      ]
    },
    {
      "cell_type": "code",
      "execution_count": null,
      "metadata": {
        "colab": {
          "base_uri": "https://localhost:8080/",
          "height": 357
        },
        "id": "d2UvzB-ZDgEW",
        "outputId": "6262b97e-de49-4781-c346-175ba75983d8"
      },
      "outputs": [
        {
          "output_type": "execute_result",
          "data": {
            "text/plain": [
              "            Name     Club Nationality Position  Age  Matches  Starts  Mins  \\\n",
              "0    Mason Mount  Chelsea         ENG    MF,FW   21       36      32  2890   \n",
              "1  Edouard Mendy  Chelsea         SEN       GK   28       31      31  2745   \n",
              "2    Timo Werner  Chelsea         GER       FW   24       35      29  2602   \n",
              "3   Ben Chilwell  Chelsea         ENG       DF   23       27      27  2286   \n",
              "4    Reece James  Chelsea         ENG       DF   20       32      25  2373   \n",
              "\n",
              "   Goals  Assists  Passes_Attempted  Perc_Passes_Completed  Penalty_Goals  \\\n",
              "0      6        5              1881                   82.3              1   \n",
              "1      0        0              1007                   84.6              0   \n",
              "2      6        8               826                   77.2              0   \n",
              "3      3        5              1806                   78.6              0   \n",
              "4      1        2              1987                   85.0              0   \n",
              "\n",
              "   Penalty_Attempted    xG    xA  Yellow_Cards  Red_Cards  \n",
              "0                  1  0.21  0.24             2          0  \n",
              "1                  0  0.00  0.00             2          0  \n",
              "2                  0  0.41  0.21             2          0  \n",
              "3                  0  0.10  0.11             3          0  \n",
              "4                  0  0.06  0.12             3          0  "
            ],
            "text/html": [
              "\n",
              "  <div id=\"df-1767d627-bcdf-485c-95e0-d0967f6695cd\">\n",
              "    <div class=\"colab-df-container\">\n",
              "      <div>\n",
              "<style scoped>\n",
              "    .dataframe tbody tr th:only-of-type {\n",
              "        vertical-align: middle;\n",
              "    }\n",
              "\n",
              "    .dataframe tbody tr th {\n",
              "        vertical-align: top;\n",
              "    }\n",
              "\n",
              "    .dataframe thead th {\n",
              "        text-align: right;\n",
              "    }\n",
              "</style>\n",
              "<table border=\"1\" class=\"dataframe\">\n",
              "  <thead>\n",
              "    <tr style=\"text-align: right;\">\n",
              "      <th></th>\n",
              "      <th>Name</th>\n",
              "      <th>Club</th>\n",
              "      <th>Nationality</th>\n",
              "      <th>Position</th>\n",
              "      <th>Age</th>\n",
              "      <th>Matches</th>\n",
              "      <th>Starts</th>\n",
              "      <th>Mins</th>\n",
              "      <th>Goals</th>\n",
              "      <th>Assists</th>\n",
              "      <th>Passes_Attempted</th>\n",
              "      <th>Perc_Passes_Completed</th>\n",
              "      <th>Penalty_Goals</th>\n",
              "      <th>Penalty_Attempted</th>\n",
              "      <th>xG</th>\n",
              "      <th>xA</th>\n",
              "      <th>Yellow_Cards</th>\n",
              "      <th>Red_Cards</th>\n",
              "    </tr>\n",
              "  </thead>\n",
              "  <tbody>\n",
              "    <tr>\n",
              "      <th>0</th>\n",
              "      <td>Mason Mount</td>\n",
              "      <td>Chelsea</td>\n",
              "      <td>ENG</td>\n",
              "      <td>MF,FW</td>\n",
              "      <td>21</td>\n",
              "      <td>36</td>\n",
              "      <td>32</td>\n",
              "      <td>2890</td>\n",
              "      <td>6</td>\n",
              "      <td>5</td>\n",
              "      <td>1881</td>\n",
              "      <td>82.3</td>\n",
              "      <td>1</td>\n",
              "      <td>1</td>\n",
              "      <td>0.21</td>\n",
              "      <td>0.24</td>\n",
              "      <td>2</td>\n",
              "      <td>0</td>\n",
              "    </tr>\n",
              "    <tr>\n",
              "      <th>1</th>\n",
              "      <td>Edouard Mendy</td>\n",
              "      <td>Chelsea</td>\n",
              "      <td>SEN</td>\n",
              "      <td>GK</td>\n",
              "      <td>28</td>\n",
              "      <td>31</td>\n",
              "      <td>31</td>\n",
              "      <td>2745</td>\n",
              "      <td>0</td>\n",
              "      <td>0</td>\n",
              "      <td>1007</td>\n",
              "      <td>84.6</td>\n",
              "      <td>0</td>\n",
              "      <td>0</td>\n",
              "      <td>0.00</td>\n",
              "      <td>0.00</td>\n",
              "      <td>2</td>\n",
              "      <td>0</td>\n",
              "    </tr>\n",
              "    <tr>\n",
              "      <th>2</th>\n",
              "      <td>Timo Werner</td>\n",
              "      <td>Chelsea</td>\n",
              "      <td>GER</td>\n",
              "      <td>FW</td>\n",
              "      <td>24</td>\n",
              "      <td>35</td>\n",
              "      <td>29</td>\n",
              "      <td>2602</td>\n",
              "      <td>6</td>\n",
              "      <td>8</td>\n",
              "      <td>826</td>\n",
              "      <td>77.2</td>\n",
              "      <td>0</td>\n",
              "      <td>0</td>\n",
              "      <td>0.41</td>\n",
              "      <td>0.21</td>\n",
              "      <td>2</td>\n",
              "      <td>0</td>\n",
              "    </tr>\n",
              "    <tr>\n",
              "      <th>3</th>\n",
              "      <td>Ben Chilwell</td>\n",
              "      <td>Chelsea</td>\n",
              "      <td>ENG</td>\n",
              "      <td>DF</td>\n",
              "      <td>23</td>\n",
              "      <td>27</td>\n",
              "      <td>27</td>\n",
              "      <td>2286</td>\n",
              "      <td>3</td>\n",
              "      <td>5</td>\n",
              "      <td>1806</td>\n",
              "      <td>78.6</td>\n",
              "      <td>0</td>\n",
              "      <td>0</td>\n",
              "      <td>0.10</td>\n",
              "      <td>0.11</td>\n",
              "      <td>3</td>\n",
              "      <td>0</td>\n",
              "    </tr>\n",
              "    <tr>\n",
              "      <th>4</th>\n",
              "      <td>Reece James</td>\n",
              "      <td>Chelsea</td>\n",
              "      <td>ENG</td>\n",
              "      <td>DF</td>\n",
              "      <td>20</td>\n",
              "      <td>32</td>\n",
              "      <td>25</td>\n",
              "      <td>2373</td>\n",
              "      <td>1</td>\n",
              "      <td>2</td>\n",
              "      <td>1987</td>\n",
              "      <td>85.0</td>\n",
              "      <td>0</td>\n",
              "      <td>0</td>\n",
              "      <td>0.06</td>\n",
              "      <td>0.12</td>\n",
              "      <td>3</td>\n",
              "      <td>0</td>\n",
              "    </tr>\n",
              "  </tbody>\n",
              "</table>\n",
              "</div>\n",
              "      <button class=\"colab-df-convert\" onclick=\"convertToInteractive('df-1767d627-bcdf-485c-95e0-d0967f6695cd')\"\n",
              "              title=\"Convert this dataframe to an interactive table.\"\n",
              "              style=\"display:none;\">\n",
              "        \n",
              "  <svg xmlns=\"http://www.w3.org/2000/svg\" height=\"24px\"viewBox=\"0 0 24 24\"\n",
              "       width=\"24px\">\n",
              "    <path d=\"M0 0h24v24H0V0z\" fill=\"none\"/>\n",
              "    <path d=\"M18.56 5.44l.94 2.06.94-2.06 2.06-.94-2.06-.94-.94-2.06-.94 2.06-2.06.94zm-11 1L8.5 8.5l.94-2.06 2.06-.94-2.06-.94L8.5 2.5l-.94 2.06-2.06.94zm10 10l.94 2.06.94-2.06 2.06-.94-2.06-.94-.94-2.06-.94 2.06-2.06.94z\"/><path d=\"M17.41 7.96l-1.37-1.37c-.4-.4-.92-.59-1.43-.59-.52 0-1.04.2-1.43.59L10.3 9.45l-7.72 7.72c-.78.78-.78 2.05 0 2.83L4 21.41c.39.39.9.59 1.41.59.51 0 1.02-.2 1.41-.59l7.78-7.78 2.81-2.81c.8-.78.8-2.07 0-2.86zM5.41 20L4 18.59l7.72-7.72 1.47 1.35L5.41 20z\"/>\n",
              "  </svg>\n",
              "      </button>\n",
              "      \n",
              "  <style>\n",
              "    .colab-df-container {\n",
              "      display:flex;\n",
              "      flex-wrap:wrap;\n",
              "      gap: 12px;\n",
              "    }\n",
              "\n",
              "    .colab-df-convert {\n",
              "      background-color: #E8F0FE;\n",
              "      border: none;\n",
              "      border-radius: 50%;\n",
              "      cursor: pointer;\n",
              "      display: none;\n",
              "      fill: #1967D2;\n",
              "      height: 32px;\n",
              "      padding: 0 0 0 0;\n",
              "      width: 32px;\n",
              "    }\n",
              "\n",
              "    .colab-df-convert:hover {\n",
              "      background-color: #E2EBFA;\n",
              "      box-shadow: 0px 1px 2px rgba(60, 64, 67, 0.3), 0px 1px 3px 1px rgba(60, 64, 67, 0.15);\n",
              "      fill: #174EA6;\n",
              "    }\n",
              "\n",
              "    [theme=dark] .colab-df-convert {\n",
              "      background-color: #3B4455;\n",
              "      fill: #D2E3FC;\n",
              "    }\n",
              "\n",
              "    [theme=dark] .colab-df-convert:hover {\n",
              "      background-color: #434B5C;\n",
              "      box-shadow: 0px 1px 3px 1px rgba(0, 0, 0, 0.15);\n",
              "      filter: drop-shadow(0px 1px 2px rgba(0, 0, 0, 0.3));\n",
              "      fill: #FFFFFF;\n",
              "    }\n",
              "  </style>\n",
              "\n",
              "      <script>\n",
              "        const buttonEl =\n",
              "          document.querySelector('#df-1767d627-bcdf-485c-95e0-d0967f6695cd button.colab-df-convert');\n",
              "        buttonEl.style.display =\n",
              "          google.colab.kernel.accessAllowed ? 'block' : 'none';\n",
              "\n",
              "        async function convertToInteractive(key) {\n",
              "          const element = document.querySelector('#df-1767d627-bcdf-485c-95e0-d0967f6695cd');\n",
              "          const dataTable =\n",
              "            await google.colab.kernel.invokeFunction('convertToInteractive',\n",
              "                                                     [key], {});\n",
              "          if (!dataTable) return;\n",
              "\n",
              "          const docLinkHtml = 'Like what you see? Visit the ' +\n",
              "            '<a target=\"_blank\" href=https://colab.research.google.com/notebooks/data_table.ipynb>data table notebook</a>'\n",
              "            + ' to learn more about interactive tables.';\n",
              "          element.innerHTML = '';\n",
              "          dataTable['output_type'] = 'display_data';\n",
              "          await google.colab.output.renderOutput(dataTable, element);\n",
              "          const docLink = document.createElement('div');\n",
              "          docLink.innerHTML = docLinkHtml;\n",
              "          element.appendChild(docLink);\n",
              "        }\n",
              "      </script>\n",
              "    </div>\n",
              "  </div>\n",
              "  "
            ]
          },
          "metadata": {},
          "execution_count": 3
        }
      ],
      "source": [
        "#leer 5 primeras lineas\n",
        "epl.head()"
      ]
    },
    {
      "cell_type": "code",
      "source": [
        "epl.shape"
      ],
      "metadata": {
        "colab": {
          "base_uri": "https://localhost:8080/"
        },
        "id": "8gA2uSvyELaD",
        "outputId": "00526a18-24ce-4953-a9b7-468152419302"
      },
      "execution_count": null,
      "outputs": [
        {
          "output_type": "execute_result",
          "data": {
            "text/plain": [
              "(532, 18)"
            ]
          },
          "metadata": {},
          "execution_count": 4
        }
      ]
    },
    {
      "cell_type": "code",
      "source": [
        "len(epl)"
      ],
      "metadata": {
        "colab": {
          "base_uri": "https://localhost:8080/"
        },
        "id": "U6LuX9m3ELeF",
        "outputId": "c0c7e100-5f67-494f-8406-dca90faf71f6"
      },
      "execution_count": null,
      "outputs": [
        {
          "output_type": "execute_result",
          "data": {
            "text/plain": [
              "532"
            ]
          },
          "metadata": {},
          "execution_count": 5
        }
      ]
    },
    {
      "cell_type": "code",
      "source": [
        "epl.shape[1]"
      ],
      "metadata": {
        "colab": {
          "base_uri": "https://localhost:8080/"
        },
        "id": "VhvrB-8lEUIt",
        "outputId": "69ec9193-0ad9-4849-87de-9fc51ed231cd"
      },
      "execution_count": null,
      "outputs": [
        {
          "output_type": "execute_result",
          "data": {
            "text/plain": [
              "18"
            ]
          },
          "metadata": {},
          "execution_count": 6
        }
      ]
    },
    {
      "cell_type": "code",
      "execution_count": null,
      "metadata": {
        "colab": {
          "base_uri": "https://localhost:8080/",
          "height": 308
        },
        "id": "c5SG44SFDgEY",
        "outputId": "b5eca070-2432-46ff-8829-e5ae2194626c"
      },
      "outputs": [
        {
          "output_type": "execute_result",
          "data": {
            "text/plain": [
              "               Name            Club Nationality Position  Age  Matches  \\\n",
              "369   Alex McCarthy     Southampton         ENG       GK   30       30   \n",
              "121  Nampalys Mendy  Leicester City         SEN       MF   28       23   \n",
              "113   Wesley Fofana  Leicester City         FRA       DF   19       28   \n",
              "454  Ivan Cavaleiro          Fulham         POR    FW,MF   26       36   \n",
              "\n",
              "     Starts  Mins  Goals  Assists  Passes_Attempted  Perc_Passes_Completed  \\\n",
              "369      30  2700      0        0              1069                   64.3   \n",
              "121      15  1459      0        1               965                   91.4   \n",
              "113      27  2262      0        0              1672                   88.2   \n",
              "454      27  2472      3        0               834                   71.9   \n",
              "\n",
              "     Penalty_Goals  Penalty_Attempted    xG    xA  Yellow_Cards  Red_Cards  \n",
              "369              0                  0  0.00  0.00             2          0  \n",
              "121              0                  0  0.01  0.02             5          0  \n",
              "113              0                  0  0.04  0.01             7          0  \n",
              "454              1                  2  0.20  0.12             2          0  "
            ],
            "text/html": [
              "\n",
              "  <div id=\"df-dcec8a76-641a-4338-a636-8985eee638ad\">\n",
              "    <div class=\"colab-df-container\">\n",
              "      <div>\n",
              "<style scoped>\n",
              "    .dataframe tbody tr th:only-of-type {\n",
              "        vertical-align: middle;\n",
              "    }\n",
              "\n",
              "    .dataframe tbody tr th {\n",
              "        vertical-align: top;\n",
              "    }\n",
              "\n",
              "    .dataframe thead th {\n",
              "        text-align: right;\n",
              "    }\n",
              "</style>\n",
              "<table border=\"1\" class=\"dataframe\">\n",
              "  <thead>\n",
              "    <tr style=\"text-align: right;\">\n",
              "      <th></th>\n",
              "      <th>Name</th>\n",
              "      <th>Club</th>\n",
              "      <th>Nationality</th>\n",
              "      <th>Position</th>\n",
              "      <th>Age</th>\n",
              "      <th>Matches</th>\n",
              "      <th>Starts</th>\n",
              "      <th>Mins</th>\n",
              "      <th>Goals</th>\n",
              "      <th>Assists</th>\n",
              "      <th>Passes_Attempted</th>\n",
              "      <th>Perc_Passes_Completed</th>\n",
              "      <th>Penalty_Goals</th>\n",
              "      <th>Penalty_Attempted</th>\n",
              "      <th>xG</th>\n",
              "      <th>xA</th>\n",
              "      <th>Yellow_Cards</th>\n",
              "      <th>Red_Cards</th>\n",
              "    </tr>\n",
              "  </thead>\n",
              "  <tbody>\n",
              "    <tr>\n",
              "      <th>369</th>\n",
              "      <td>Alex McCarthy</td>\n",
              "      <td>Southampton</td>\n",
              "      <td>ENG</td>\n",
              "      <td>GK</td>\n",
              "      <td>30</td>\n",
              "      <td>30</td>\n",
              "      <td>30</td>\n",
              "      <td>2700</td>\n",
              "      <td>0</td>\n",
              "      <td>0</td>\n",
              "      <td>1069</td>\n",
              "      <td>64.3</td>\n",
              "      <td>0</td>\n",
              "      <td>0</td>\n",
              "      <td>0.00</td>\n",
              "      <td>0.00</td>\n",
              "      <td>2</td>\n",
              "      <td>0</td>\n",
              "    </tr>\n",
              "    <tr>\n",
              "      <th>121</th>\n",
              "      <td>Nampalys Mendy</td>\n",
              "      <td>Leicester City</td>\n",
              "      <td>SEN</td>\n",
              "      <td>MF</td>\n",
              "      <td>28</td>\n",
              "      <td>23</td>\n",
              "      <td>15</td>\n",
              "      <td>1459</td>\n",
              "      <td>0</td>\n",
              "      <td>1</td>\n",
              "      <td>965</td>\n",
              "      <td>91.4</td>\n",
              "      <td>0</td>\n",
              "      <td>0</td>\n",
              "      <td>0.01</td>\n",
              "      <td>0.02</td>\n",
              "      <td>5</td>\n",
              "      <td>0</td>\n",
              "    </tr>\n",
              "    <tr>\n",
              "      <th>113</th>\n",
              "      <td>Wesley Fofana</td>\n",
              "      <td>Leicester City</td>\n",
              "      <td>FRA</td>\n",
              "      <td>DF</td>\n",
              "      <td>19</td>\n",
              "      <td>28</td>\n",
              "      <td>27</td>\n",
              "      <td>2262</td>\n",
              "      <td>0</td>\n",
              "      <td>0</td>\n",
              "      <td>1672</td>\n",
              "      <td>88.2</td>\n",
              "      <td>0</td>\n",
              "      <td>0</td>\n",
              "      <td>0.04</td>\n",
              "      <td>0.01</td>\n",
              "      <td>7</td>\n",
              "      <td>0</td>\n",
              "    </tr>\n",
              "    <tr>\n",
              "      <th>454</th>\n",
              "      <td>Ivan Cavaleiro</td>\n",
              "      <td>Fulham</td>\n",
              "      <td>POR</td>\n",
              "      <td>FW,MF</td>\n",
              "      <td>26</td>\n",
              "      <td>36</td>\n",
              "      <td>27</td>\n",
              "      <td>2472</td>\n",
              "      <td>3</td>\n",
              "      <td>0</td>\n",
              "      <td>834</td>\n",
              "      <td>71.9</td>\n",
              "      <td>1</td>\n",
              "      <td>2</td>\n",
              "      <td>0.20</td>\n",
              "      <td>0.12</td>\n",
              "      <td>2</td>\n",
              "      <td>0</td>\n",
              "    </tr>\n",
              "  </tbody>\n",
              "</table>\n",
              "</div>\n",
              "      <button class=\"colab-df-convert\" onclick=\"convertToInteractive('df-dcec8a76-641a-4338-a636-8985eee638ad')\"\n",
              "              title=\"Convert this dataframe to an interactive table.\"\n",
              "              style=\"display:none;\">\n",
              "        \n",
              "  <svg xmlns=\"http://www.w3.org/2000/svg\" height=\"24px\"viewBox=\"0 0 24 24\"\n",
              "       width=\"24px\">\n",
              "    <path d=\"M0 0h24v24H0V0z\" fill=\"none\"/>\n",
              "    <path d=\"M18.56 5.44l.94 2.06.94-2.06 2.06-.94-2.06-.94-.94-2.06-.94 2.06-2.06.94zm-11 1L8.5 8.5l.94-2.06 2.06-.94-2.06-.94L8.5 2.5l-.94 2.06-2.06.94zm10 10l.94 2.06.94-2.06 2.06-.94-2.06-.94-.94-2.06-.94 2.06-2.06.94z\"/><path d=\"M17.41 7.96l-1.37-1.37c-.4-.4-.92-.59-1.43-.59-.52 0-1.04.2-1.43.59L10.3 9.45l-7.72 7.72c-.78.78-.78 2.05 0 2.83L4 21.41c.39.39.9.59 1.41.59.51 0 1.02-.2 1.41-.59l7.78-7.78 2.81-2.81c.8-.78.8-2.07 0-2.86zM5.41 20L4 18.59l7.72-7.72 1.47 1.35L5.41 20z\"/>\n",
              "  </svg>\n",
              "      </button>\n",
              "      \n",
              "  <style>\n",
              "    .colab-df-container {\n",
              "      display:flex;\n",
              "      flex-wrap:wrap;\n",
              "      gap: 12px;\n",
              "    }\n",
              "\n",
              "    .colab-df-convert {\n",
              "      background-color: #E8F0FE;\n",
              "      border: none;\n",
              "      border-radius: 50%;\n",
              "      cursor: pointer;\n",
              "      display: none;\n",
              "      fill: #1967D2;\n",
              "      height: 32px;\n",
              "      padding: 0 0 0 0;\n",
              "      width: 32px;\n",
              "    }\n",
              "\n",
              "    .colab-df-convert:hover {\n",
              "      background-color: #E2EBFA;\n",
              "      box-shadow: 0px 1px 2px rgba(60, 64, 67, 0.3), 0px 1px 3px 1px rgba(60, 64, 67, 0.15);\n",
              "      fill: #174EA6;\n",
              "    }\n",
              "\n",
              "    [theme=dark] .colab-df-convert {\n",
              "      background-color: #3B4455;\n",
              "      fill: #D2E3FC;\n",
              "    }\n",
              "\n",
              "    [theme=dark] .colab-df-convert:hover {\n",
              "      background-color: #434B5C;\n",
              "      box-shadow: 0px 1px 3px 1px rgba(0, 0, 0, 0.15);\n",
              "      filter: drop-shadow(0px 1px 2px rgba(0, 0, 0, 0.3));\n",
              "      fill: #FFFFFF;\n",
              "    }\n",
              "  </style>\n",
              "\n",
              "      <script>\n",
              "        const buttonEl =\n",
              "          document.querySelector('#df-dcec8a76-641a-4338-a636-8985eee638ad button.colab-df-convert');\n",
              "        buttonEl.style.display =\n",
              "          google.colab.kernel.accessAllowed ? 'block' : 'none';\n",
              "\n",
              "        async function convertToInteractive(key) {\n",
              "          const element = document.querySelector('#df-dcec8a76-641a-4338-a636-8985eee638ad');\n",
              "          const dataTable =\n",
              "            await google.colab.kernel.invokeFunction('convertToInteractive',\n",
              "                                                     [key], {});\n",
              "          if (!dataTable) return;\n",
              "\n",
              "          const docLinkHtml = 'Like what you see? Visit the ' +\n",
              "            '<a target=\"_blank\" href=https://colab.research.google.com/notebooks/data_table.ipynb>data table notebook</a>'\n",
              "            + ' to learn more about interactive tables.';\n",
              "          element.innerHTML = '';\n",
              "          dataTable['output_type'] = 'display_data';\n",
              "          await google.colab.output.renderOutput(dataTable, element);\n",
              "          const docLink = document.createElement('div');\n",
              "          docLink.innerHTML = docLinkHtml;\n",
              "          element.appendChild(docLink);\n",
              "        }\n",
              "      </script>\n",
              "    </div>\n",
              "  </div>\n",
              "  "
            ]
          },
          "metadata": {},
          "execution_count": 7
        }
      ],
      "source": [
        "#leer 4 primeras lineas aleatorias\n",
        "epl.sample(4)"
      ]
    },
    {
      "cell_type": "code",
      "execution_count": null,
      "metadata": {
        "colab": {
          "base_uri": "https://localhost:8080/"
        },
        "id": "X71l9ZuvDgEZ",
        "outputId": "50d8b441-f7db-4fee-9f13-159e4c63ee5f"
      },
      "outputs": [
        {
          "output_type": "stream",
          "name": "stdout",
          "text": [
            "<class 'pandas.core.frame.DataFrame'>\n",
            "RangeIndex: 532 entries, 0 to 531\n",
            "Data columns (total 18 columns):\n",
            " #   Column                 Non-Null Count  Dtype  \n",
            "---  ------                 --------------  -----  \n",
            " 0   Name                   532 non-null    object \n",
            " 1   Club                   532 non-null    object \n",
            " 2   Nationality            532 non-null    object \n",
            " 3   Position               532 non-null    object \n",
            " 4   Age                    532 non-null    int64  \n",
            " 5   Matches                532 non-null    int64  \n",
            " 6   Starts                 532 non-null    int64  \n",
            " 7   Mins                   532 non-null    int64  \n",
            " 8   Goals                  532 non-null    int64  \n",
            " 9   Assists                532 non-null    int64  \n",
            " 10  Passes_Attempted       532 non-null    int64  \n",
            " 11  Perc_Passes_Completed  532 non-null    float64\n",
            " 12  Penalty_Goals          532 non-null    int64  \n",
            " 13  Penalty_Attempted      532 non-null    int64  \n",
            " 14  xG                     532 non-null    float64\n",
            " 15  xA                     532 non-null    float64\n",
            " 16  Yellow_Cards           532 non-null    int64  \n",
            " 17  Red_Cards              532 non-null    int64  \n",
            "dtypes: float64(3), int64(11), object(4)\n",
            "memory usage: 74.9+ KB\n"
          ]
        }
      ],
      "source": [
        "#Información del DataFrame\n",
        "epl.info()"
      ]
    },
    {
      "cell_type": "code",
      "execution_count": null,
      "metadata": {
        "id": "TxlOqSqeDgEZ",
        "colab": {
          "base_uri": "https://localhost:8080/",
          "height": 488
        },
        "outputId": "c561e05f-5424-4fcf-9f1b-663d9bdbd869"
      },
      "outputs": [
        {
          "output_type": "execute_result",
          "data": {
            "text/plain": [
              "                       count         mean          std   min     25%      50%  \\\n",
              "Age                    532.0    25.500000     4.319404  16.0   22.00    26.00   \n",
              "Matches                532.0    19.535714    11.840459   1.0    9.00    21.00   \n",
              "Starts                 532.0    15.714286    11.921161   0.0    4.00    15.00   \n",
              "Mins                   532.0  1411.443609  1043.171856   1.0  426.00  1345.00   \n",
              "Goals                  532.0     1.853383     3.338009   0.0    0.00     1.00   \n",
              "Assists                532.0     1.287594     2.095191   0.0    0.00     0.00   \n",
              "Passes_Attempted       532.0   717.750000   631.372522   0.0  171.50   573.50   \n",
              "Perc_Passes_Completed  532.0    77.823872    13.011631  -1.0   73.50    79.20   \n",
              "Penalty_Goals          532.0     0.191729     0.850881   0.0    0.00     0.00   \n",
              "Penalty_Attempted      532.0     0.234962     0.975818   0.0    0.00     0.00   \n",
              "xG                     532.0     0.113289     0.148174   0.0    0.01     0.06   \n",
              "xA                     532.0     0.072650     0.090072   0.0    0.00     0.05   \n",
              "Yellow_Cards           532.0     2.114662     2.269094   0.0    0.00     2.00   \n",
              "Red_Cards              532.0     0.090226     0.293268   0.0    0.00     0.00   \n",
              "\n",
              "                            75%      max  \n",
              "Age                      29.000    38.00  \n",
              "Matches                  30.000    38.00  \n",
              "Starts                   27.000    38.00  \n",
              "Mins                   2303.500  3420.00  \n",
              "Goals                     2.000    23.00  \n",
              "Assists                   2.000    14.00  \n",
              "Passes_Attempted       1129.500  3214.00  \n",
              "Perc_Passes_Completed    84.625   100.00  \n",
              "Penalty_Goals             0.000     9.00  \n",
              "Penalty_Attempted         0.000    10.00  \n",
              "xG                        0.150     1.16  \n",
              "xA                        0.110     0.90  \n",
              "Yellow_Cards              3.000    12.00  \n",
              "Red_Cards                 0.000     2.00  "
            ],
            "text/html": [
              "\n",
              "  <div id=\"df-6d3f69a7-4502-4edd-8aa1-9ed6d8f186bd\">\n",
              "    <div class=\"colab-df-container\">\n",
              "      <div>\n",
              "<style scoped>\n",
              "    .dataframe tbody tr th:only-of-type {\n",
              "        vertical-align: middle;\n",
              "    }\n",
              "\n",
              "    .dataframe tbody tr th {\n",
              "        vertical-align: top;\n",
              "    }\n",
              "\n",
              "    .dataframe thead th {\n",
              "        text-align: right;\n",
              "    }\n",
              "</style>\n",
              "<table border=\"1\" class=\"dataframe\">\n",
              "  <thead>\n",
              "    <tr style=\"text-align: right;\">\n",
              "      <th></th>\n",
              "      <th>count</th>\n",
              "      <th>mean</th>\n",
              "      <th>std</th>\n",
              "      <th>min</th>\n",
              "      <th>25%</th>\n",
              "      <th>50%</th>\n",
              "      <th>75%</th>\n",
              "      <th>max</th>\n",
              "    </tr>\n",
              "  </thead>\n",
              "  <tbody>\n",
              "    <tr>\n",
              "      <th>Age</th>\n",
              "      <td>532.0</td>\n",
              "      <td>25.500000</td>\n",
              "      <td>4.319404</td>\n",
              "      <td>16.0</td>\n",
              "      <td>22.00</td>\n",
              "      <td>26.00</td>\n",
              "      <td>29.000</td>\n",
              "      <td>38.00</td>\n",
              "    </tr>\n",
              "    <tr>\n",
              "      <th>Matches</th>\n",
              "      <td>532.0</td>\n",
              "      <td>19.535714</td>\n",
              "      <td>11.840459</td>\n",
              "      <td>1.0</td>\n",
              "      <td>9.00</td>\n",
              "      <td>21.00</td>\n",
              "      <td>30.000</td>\n",
              "      <td>38.00</td>\n",
              "    </tr>\n",
              "    <tr>\n",
              "      <th>Starts</th>\n",
              "      <td>532.0</td>\n",
              "      <td>15.714286</td>\n",
              "      <td>11.921161</td>\n",
              "      <td>0.0</td>\n",
              "      <td>4.00</td>\n",
              "      <td>15.00</td>\n",
              "      <td>27.000</td>\n",
              "      <td>38.00</td>\n",
              "    </tr>\n",
              "    <tr>\n",
              "      <th>Mins</th>\n",
              "      <td>532.0</td>\n",
              "      <td>1411.443609</td>\n",
              "      <td>1043.171856</td>\n",
              "      <td>1.0</td>\n",
              "      <td>426.00</td>\n",
              "      <td>1345.00</td>\n",
              "      <td>2303.500</td>\n",
              "      <td>3420.00</td>\n",
              "    </tr>\n",
              "    <tr>\n",
              "      <th>Goals</th>\n",
              "      <td>532.0</td>\n",
              "      <td>1.853383</td>\n",
              "      <td>3.338009</td>\n",
              "      <td>0.0</td>\n",
              "      <td>0.00</td>\n",
              "      <td>1.00</td>\n",
              "      <td>2.000</td>\n",
              "      <td>23.00</td>\n",
              "    </tr>\n",
              "    <tr>\n",
              "      <th>Assists</th>\n",
              "      <td>532.0</td>\n",
              "      <td>1.287594</td>\n",
              "      <td>2.095191</td>\n",
              "      <td>0.0</td>\n",
              "      <td>0.00</td>\n",
              "      <td>0.00</td>\n",
              "      <td>2.000</td>\n",
              "      <td>14.00</td>\n",
              "    </tr>\n",
              "    <tr>\n",
              "      <th>Passes_Attempted</th>\n",
              "      <td>532.0</td>\n",
              "      <td>717.750000</td>\n",
              "      <td>631.372522</td>\n",
              "      <td>0.0</td>\n",
              "      <td>171.50</td>\n",
              "      <td>573.50</td>\n",
              "      <td>1129.500</td>\n",
              "      <td>3214.00</td>\n",
              "    </tr>\n",
              "    <tr>\n",
              "      <th>Perc_Passes_Completed</th>\n",
              "      <td>532.0</td>\n",
              "      <td>77.823872</td>\n",
              "      <td>13.011631</td>\n",
              "      <td>-1.0</td>\n",
              "      <td>73.50</td>\n",
              "      <td>79.20</td>\n",
              "      <td>84.625</td>\n",
              "      <td>100.00</td>\n",
              "    </tr>\n",
              "    <tr>\n",
              "      <th>Penalty_Goals</th>\n",
              "      <td>532.0</td>\n",
              "      <td>0.191729</td>\n",
              "      <td>0.850881</td>\n",
              "      <td>0.0</td>\n",
              "      <td>0.00</td>\n",
              "      <td>0.00</td>\n",
              "      <td>0.000</td>\n",
              "      <td>9.00</td>\n",
              "    </tr>\n",
              "    <tr>\n",
              "      <th>Penalty_Attempted</th>\n",
              "      <td>532.0</td>\n",
              "      <td>0.234962</td>\n",
              "      <td>0.975818</td>\n",
              "      <td>0.0</td>\n",
              "      <td>0.00</td>\n",
              "      <td>0.00</td>\n",
              "      <td>0.000</td>\n",
              "      <td>10.00</td>\n",
              "    </tr>\n",
              "    <tr>\n",
              "      <th>xG</th>\n",
              "      <td>532.0</td>\n",
              "      <td>0.113289</td>\n",
              "      <td>0.148174</td>\n",
              "      <td>0.0</td>\n",
              "      <td>0.01</td>\n",
              "      <td>0.06</td>\n",
              "      <td>0.150</td>\n",
              "      <td>1.16</td>\n",
              "    </tr>\n",
              "    <tr>\n",
              "      <th>xA</th>\n",
              "      <td>532.0</td>\n",
              "      <td>0.072650</td>\n",
              "      <td>0.090072</td>\n",
              "      <td>0.0</td>\n",
              "      <td>0.00</td>\n",
              "      <td>0.05</td>\n",
              "      <td>0.110</td>\n",
              "      <td>0.90</td>\n",
              "    </tr>\n",
              "    <tr>\n",
              "      <th>Yellow_Cards</th>\n",
              "      <td>532.0</td>\n",
              "      <td>2.114662</td>\n",
              "      <td>2.269094</td>\n",
              "      <td>0.0</td>\n",
              "      <td>0.00</td>\n",
              "      <td>2.00</td>\n",
              "      <td>3.000</td>\n",
              "      <td>12.00</td>\n",
              "    </tr>\n",
              "    <tr>\n",
              "      <th>Red_Cards</th>\n",
              "      <td>532.0</td>\n",
              "      <td>0.090226</td>\n",
              "      <td>0.293268</td>\n",
              "      <td>0.0</td>\n",
              "      <td>0.00</td>\n",
              "      <td>0.00</td>\n",
              "      <td>0.000</td>\n",
              "      <td>2.00</td>\n",
              "    </tr>\n",
              "  </tbody>\n",
              "</table>\n",
              "</div>\n",
              "      <button class=\"colab-df-convert\" onclick=\"convertToInteractive('df-6d3f69a7-4502-4edd-8aa1-9ed6d8f186bd')\"\n",
              "              title=\"Convert this dataframe to an interactive table.\"\n",
              "              style=\"display:none;\">\n",
              "        \n",
              "  <svg xmlns=\"http://www.w3.org/2000/svg\" height=\"24px\"viewBox=\"0 0 24 24\"\n",
              "       width=\"24px\">\n",
              "    <path d=\"M0 0h24v24H0V0z\" fill=\"none\"/>\n",
              "    <path d=\"M18.56 5.44l.94 2.06.94-2.06 2.06-.94-2.06-.94-.94-2.06-.94 2.06-2.06.94zm-11 1L8.5 8.5l.94-2.06 2.06-.94-2.06-.94L8.5 2.5l-.94 2.06-2.06.94zm10 10l.94 2.06.94-2.06 2.06-.94-2.06-.94-.94-2.06-.94 2.06-2.06.94z\"/><path d=\"M17.41 7.96l-1.37-1.37c-.4-.4-.92-.59-1.43-.59-.52 0-1.04.2-1.43.59L10.3 9.45l-7.72 7.72c-.78.78-.78 2.05 0 2.83L4 21.41c.39.39.9.59 1.41.59.51 0 1.02-.2 1.41-.59l7.78-7.78 2.81-2.81c.8-.78.8-2.07 0-2.86zM5.41 20L4 18.59l7.72-7.72 1.47 1.35L5.41 20z\"/>\n",
              "  </svg>\n",
              "      </button>\n",
              "      \n",
              "  <style>\n",
              "    .colab-df-container {\n",
              "      display:flex;\n",
              "      flex-wrap:wrap;\n",
              "      gap: 12px;\n",
              "    }\n",
              "\n",
              "    .colab-df-convert {\n",
              "      background-color: #E8F0FE;\n",
              "      border: none;\n",
              "      border-radius: 50%;\n",
              "      cursor: pointer;\n",
              "      display: none;\n",
              "      fill: #1967D2;\n",
              "      height: 32px;\n",
              "      padding: 0 0 0 0;\n",
              "      width: 32px;\n",
              "    }\n",
              "\n",
              "    .colab-df-convert:hover {\n",
              "      background-color: #E2EBFA;\n",
              "      box-shadow: 0px 1px 2px rgba(60, 64, 67, 0.3), 0px 1px 3px 1px rgba(60, 64, 67, 0.15);\n",
              "      fill: #174EA6;\n",
              "    }\n",
              "\n",
              "    [theme=dark] .colab-df-convert {\n",
              "      background-color: #3B4455;\n",
              "      fill: #D2E3FC;\n",
              "    }\n",
              "\n",
              "    [theme=dark] .colab-df-convert:hover {\n",
              "      background-color: #434B5C;\n",
              "      box-shadow: 0px 1px 3px 1px rgba(0, 0, 0, 0.15);\n",
              "      filter: drop-shadow(0px 1px 2px rgba(0, 0, 0, 0.3));\n",
              "      fill: #FFFFFF;\n",
              "    }\n",
              "  </style>\n",
              "\n",
              "      <script>\n",
              "        const buttonEl =\n",
              "          document.querySelector('#df-6d3f69a7-4502-4edd-8aa1-9ed6d8f186bd button.colab-df-convert');\n",
              "        buttonEl.style.display =\n",
              "          google.colab.kernel.accessAllowed ? 'block' : 'none';\n",
              "\n",
              "        async function convertToInteractive(key) {\n",
              "          const element = document.querySelector('#df-6d3f69a7-4502-4edd-8aa1-9ed6d8f186bd');\n",
              "          const dataTable =\n",
              "            await google.colab.kernel.invokeFunction('convertToInteractive',\n",
              "                                                     [key], {});\n",
              "          if (!dataTable) return;\n",
              "\n",
              "          const docLinkHtml = 'Like what you see? Visit the ' +\n",
              "            '<a target=\"_blank\" href=https://colab.research.google.com/notebooks/data_table.ipynb>data table notebook</a>'\n",
              "            + ' to learn more about interactive tables.';\n",
              "          element.innerHTML = '';\n",
              "          dataTable['output_type'] = 'display_data';\n",
              "          await google.colab.output.renderOutput(dataTable, element);\n",
              "          const docLink = document.createElement('div');\n",
              "          docLink.innerHTML = docLinkHtml;\n",
              "          element.appendChild(docLink);\n",
              "        }\n",
              "      </script>\n",
              "    </div>\n",
              "  </div>\n",
              "  "
            ]
          },
          "metadata": {},
          "execution_count": 9
        }
      ],
      "source": [
        "#Resumen de Datos estadisticos ---- Solo columnas numéricas\n",
        "epl.describe().T"
      ]
    },
    {
      "cell_type": "code",
      "execution_count": null,
      "metadata": {
        "id": "CYmOuCwcDgEa",
        "colab": {
          "base_uri": "https://localhost:8080/"
        },
        "outputId": "8a4755d4-c41c-486c-acd5-a49d865aed8e"
      },
      "outputs": [
        {
          "output_type": "execute_result",
          "data": {
            "text/plain": [
              "Name                     0\n",
              "Club                     0\n",
              "Nationality              0\n",
              "Position                 0\n",
              "Age                      0\n",
              "Matches                  0\n",
              "Starts                   0\n",
              "Mins                     0\n",
              "Goals                    0\n",
              "Assists                  0\n",
              "Passes_Attempted         0\n",
              "Perc_Passes_Completed    0\n",
              "Penalty_Goals            0\n",
              "Penalty_Attempted        0\n",
              "xG                       0\n",
              "xA                       0\n",
              "Yellow_Cards             0\n",
              "Red_Cards                0\n",
              "dtype: int64"
            ]
          },
          "metadata": {},
          "execution_count": 10
        }
      ],
      "source": [
        "#Número total de valores nulos\n",
        "epl.isna().sum()"
      ]
    },
    {
      "cell_type": "markdown",
      "metadata": {
        "id": "tkrbVpXFDgEb"
      },
      "source": [
        "Creamos 2 columnas mas **Minutos por partido** y ***Goles por partido***."
      ]
    },
    {
      "cell_type": "code",
      "source": [
        "epl.columns"
      ],
      "metadata": {
        "colab": {
          "base_uri": "https://localhost:8080/"
        },
        "id": "vlLpvtYOVU4J",
        "outputId": "dd173a04-a636-4eb0-d8bc-b6c3af2e3e44"
      },
      "execution_count": null,
      "outputs": [
        {
          "output_type": "execute_result",
          "data": {
            "text/plain": [
              "Index(['Name', 'Club', 'Nationality', 'Position', 'Age', 'Matches', 'Starts',\n",
              "       'Mins', 'Goals', 'Assists', 'Passes_Attempted', 'Perc_Passes_Completed',\n",
              "       'Penalty_Goals', 'Penalty_Attempted', 'xG', 'xA', 'Yellow_Cards',\n",
              "       'Red_Cards'],\n",
              "      dtype='object')"
            ]
          },
          "metadata": {},
          "execution_count": 11
        }
      ]
    },
    {
      "cell_type": "code",
      "execution_count": null,
      "metadata": {
        "id": "C6FAsKZIDgEb"
      },
      "outputs": [],
      "source": [
        "# creacion de 2 columnas\n",
        "epl[\"MinPerMatch\"] = (epl['Mins']/epl['Matches']).astype(int)\n",
        "epl[\"GoalsPerMatch\"] = (epl['Goals']/epl['Matches']).astype(float)"
      ]
    },
    {
      "cell_type": "code",
      "execution_count": null,
      "metadata": {
        "id": "zXpIg0eMDgEc",
        "colab": {
          "base_uri": "https://localhost:8080/",
          "height": 357
        },
        "outputId": "80e447e6-cdf5-4535-a2ae-4d099ebd6dd7"
      },
      "outputs": [
        {
          "output_type": "execute_result",
          "data": {
            "text/plain": [
              "            Name     Club Nationality Position  Age  Matches  Starts  Mins  \\\n",
              "0    Mason Mount  Chelsea         ENG    MF,FW   21       36      32  2890   \n",
              "1  Edouard Mendy  Chelsea         SEN       GK   28       31      31  2745   \n",
              "2    Timo Werner  Chelsea         GER       FW   24       35      29  2602   \n",
              "3   Ben Chilwell  Chelsea         ENG       DF   23       27      27  2286   \n",
              "4    Reece James  Chelsea         ENG       DF   20       32      25  2373   \n",
              "\n",
              "   Goals  Assists  Passes_Attempted  Perc_Passes_Completed  Penalty_Goals  \\\n",
              "0      6        5              1881                   82.3              1   \n",
              "1      0        0              1007                   84.6              0   \n",
              "2      6        8               826                   77.2              0   \n",
              "3      3        5              1806                   78.6              0   \n",
              "4      1        2              1987                   85.0              0   \n",
              "\n",
              "   Penalty_Attempted    xG    xA  Yellow_Cards  Red_Cards  MinPerMatch  \\\n",
              "0                  1  0.21  0.24             2          0           80   \n",
              "1                  0  0.00  0.00             2          0           88   \n",
              "2                  0  0.41  0.21             2          0           74   \n",
              "3                  0  0.10  0.11             3          0           84   \n",
              "4                  0  0.06  0.12             3          0           74   \n",
              "\n",
              "   GoalsPerMatch  \n",
              "0       0.166667  \n",
              "1       0.000000  \n",
              "2       0.171429  \n",
              "3       0.111111  \n",
              "4       0.031250  "
            ],
            "text/html": [
              "\n",
              "  <div id=\"df-90fd9162-bbed-47cf-a5b8-c5e5bbf46fcf\">\n",
              "    <div class=\"colab-df-container\">\n",
              "      <div>\n",
              "<style scoped>\n",
              "    .dataframe tbody tr th:only-of-type {\n",
              "        vertical-align: middle;\n",
              "    }\n",
              "\n",
              "    .dataframe tbody tr th {\n",
              "        vertical-align: top;\n",
              "    }\n",
              "\n",
              "    .dataframe thead th {\n",
              "        text-align: right;\n",
              "    }\n",
              "</style>\n",
              "<table border=\"1\" class=\"dataframe\">\n",
              "  <thead>\n",
              "    <tr style=\"text-align: right;\">\n",
              "      <th></th>\n",
              "      <th>Name</th>\n",
              "      <th>Club</th>\n",
              "      <th>Nationality</th>\n",
              "      <th>Position</th>\n",
              "      <th>Age</th>\n",
              "      <th>Matches</th>\n",
              "      <th>Starts</th>\n",
              "      <th>Mins</th>\n",
              "      <th>Goals</th>\n",
              "      <th>Assists</th>\n",
              "      <th>Passes_Attempted</th>\n",
              "      <th>Perc_Passes_Completed</th>\n",
              "      <th>Penalty_Goals</th>\n",
              "      <th>Penalty_Attempted</th>\n",
              "      <th>xG</th>\n",
              "      <th>xA</th>\n",
              "      <th>Yellow_Cards</th>\n",
              "      <th>Red_Cards</th>\n",
              "      <th>MinPerMatch</th>\n",
              "      <th>GoalsPerMatch</th>\n",
              "    </tr>\n",
              "  </thead>\n",
              "  <tbody>\n",
              "    <tr>\n",
              "      <th>0</th>\n",
              "      <td>Mason Mount</td>\n",
              "      <td>Chelsea</td>\n",
              "      <td>ENG</td>\n",
              "      <td>MF,FW</td>\n",
              "      <td>21</td>\n",
              "      <td>36</td>\n",
              "      <td>32</td>\n",
              "      <td>2890</td>\n",
              "      <td>6</td>\n",
              "      <td>5</td>\n",
              "      <td>1881</td>\n",
              "      <td>82.3</td>\n",
              "      <td>1</td>\n",
              "      <td>1</td>\n",
              "      <td>0.21</td>\n",
              "      <td>0.24</td>\n",
              "      <td>2</td>\n",
              "      <td>0</td>\n",
              "      <td>80</td>\n",
              "      <td>0.166667</td>\n",
              "    </tr>\n",
              "    <tr>\n",
              "      <th>1</th>\n",
              "      <td>Edouard Mendy</td>\n",
              "      <td>Chelsea</td>\n",
              "      <td>SEN</td>\n",
              "      <td>GK</td>\n",
              "      <td>28</td>\n",
              "      <td>31</td>\n",
              "      <td>31</td>\n",
              "      <td>2745</td>\n",
              "      <td>0</td>\n",
              "      <td>0</td>\n",
              "      <td>1007</td>\n",
              "      <td>84.6</td>\n",
              "      <td>0</td>\n",
              "      <td>0</td>\n",
              "      <td>0.00</td>\n",
              "      <td>0.00</td>\n",
              "      <td>2</td>\n",
              "      <td>0</td>\n",
              "      <td>88</td>\n",
              "      <td>0.000000</td>\n",
              "    </tr>\n",
              "    <tr>\n",
              "      <th>2</th>\n",
              "      <td>Timo Werner</td>\n",
              "      <td>Chelsea</td>\n",
              "      <td>GER</td>\n",
              "      <td>FW</td>\n",
              "      <td>24</td>\n",
              "      <td>35</td>\n",
              "      <td>29</td>\n",
              "      <td>2602</td>\n",
              "      <td>6</td>\n",
              "      <td>8</td>\n",
              "      <td>826</td>\n",
              "      <td>77.2</td>\n",
              "      <td>0</td>\n",
              "      <td>0</td>\n",
              "      <td>0.41</td>\n",
              "      <td>0.21</td>\n",
              "      <td>2</td>\n",
              "      <td>0</td>\n",
              "      <td>74</td>\n",
              "      <td>0.171429</td>\n",
              "    </tr>\n",
              "    <tr>\n",
              "      <th>3</th>\n",
              "      <td>Ben Chilwell</td>\n",
              "      <td>Chelsea</td>\n",
              "      <td>ENG</td>\n",
              "      <td>DF</td>\n",
              "      <td>23</td>\n",
              "      <td>27</td>\n",
              "      <td>27</td>\n",
              "      <td>2286</td>\n",
              "      <td>3</td>\n",
              "      <td>5</td>\n",
              "      <td>1806</td>\n",
              "      <td>78.6</td>\n",
              "      <td>0</td>\n",
              "      <td>0</td>\n",
              "      <td>0.10</td>\n",
              "      <td>0.11</td>\n",
              "      <td>3</td>\n",
              "      <td>0</td>\n",
              "      <td>84</td>\n",
              "      <td>0.111111</td>\n",
              "    </tr>\n",
              "    <tr>\n",
              "      <th>4</th>\n",
              "      <td>Reece James</td>\n",
              "      <td>Chelsea</td>\n",
              "      <td>ENG</td>\n",
              "      <td>DF</td>\n",
              "      <td>20</td>\n",
              "      <td>32</td>\n",
              "      <td>25</td>\n",
              "      <td>2373</td>\n",
              "      <td>1</td>\n",
              "      <td>2</td>\n",
              "      <td>1987</td>\n",
              "      <td>85.0</td>\n",
              "      <td>0</td>\n",
              "      <td>0</td>\n",
              "      <td>0.06</td>\n",
              "      <td>0.12</td>\n",
              "      <td>3</td>\n",
              "      <td>0</td>\n",
              "      <td>74</td>\n",
              "      <td>0.031250</td>\n",
              "    </tr>\n",
              "  </tbody>\n",
              "</table>\n",
              "</div>\n",
              "      <button class=\"colab-df-convert\" onclick=\"convertToInteractive('df-90fd9162-bbed-47cf-a5b8-c5e5bbf46fcf')\"\n",
              "              title=\"Convert this dataframe to an interactive table.\"\n",
              "              style=\"display:none;\">\n",
              "        \n",
              "  <svg xmlns=\"http://www.w3.org/2000/svg\" height=\"24px\"viewBox=\"0 0 24 24\"\n",
              "       width=\"24px\">\n",
              "    <path d=\"M0 0h24v24H0V0z\" fill=\"none\"/>\n",
              "    <path d=\"M18.56 5.44l.94 2.06.94-2.06 2.06-.94-2.06-.94-.94-2.06-.94 2.06-2.06.94zm-11 1L8.5 8.5l.94-2.06 2.06-.94-2.06-.94L8.5 2.5l-.94 2.06-2.06.94zm10 10l.94 2.06.94-2.06 2.06-.94-2.06-.94-.94-2.06-.94 2.06-2.06.94z\"/><path d=\"M17.41 7.96l-1.37-1.37c-.4-.4-.92-.59-1.43-.59-.52 0-1.04.2-1.43.59L10.3 9.45l-7.72 7.72c-.78.78-.78 2.05 0 2.83L4 21.41c.39.39.9.59 1.41.59.51 0 1.02-.2 1.41-.59l7.78-7.78 2.81-2.81c.8-.78.8-2.07 0-2.86zM5.41 20L4 18.59l7.72-7.72 1.47 1.35L5.41 20z\"/>\n",
              "  </svg>\n",
              "      </button>\n",
              "      \n",
              "  <style>\n",
              "    .colab-df-container {\n",
              "      display:flex;\n",
              "      flex-wrap:wrap;\n",
              "      gap: 12px;\n",
              "    }\n",
              "\n",
              "    .colab-df-convert {\n",
              "      background-color: #E8F0FE;\n",
              "      border: none;\n",
              "      border-radius: 50%;\n",
              "      cursor: pointer;\n",
              "      display: none;\n",
              "      fill: #1967D2;\n",
              "      height: 32px;\n",
              "      padding: 0 0 0 0;\n",
              "      width: 32px;\n",
              "    }\n",
              "\n",
              "    .colab-df-convert:hover {\n",
              "      background-color: #E2EBFA;\n",
              "      box-shadow: 0px 1px 2px rgba(60, 64, 67, 0.3), 0px 1px 3px 1px rgba(60, 64, 67, 0.15);\n",
              "      fill: #174EA6;\n",
              "    }\n",
              "\n",
              "    [theme=dark] .colab-df-convert {\n",
              "      background-color: #3B4455;\n",
              "      fill: #D2E3FC;\n",
              "    }\n",
              "\n",
              "    [theme=dark] .colab-df-convert:hover {\n",
              "      background-color: #434B5C;\n",
              "      box-shadow: 0px 1px 3px 1px rgba(0, 0, 0, 0.15);\n",
              "      filter: drop-shadow(0px 1px 2px rgba(0, 0, 0, 0.3));\n",
              "      fill: #FFFFFF;\n",
              "    }\n",
              "  </style>\n",
              "\n",
              "      <script>\n",
              "        const buttonEl =\n",
              "          document.querySelector('#df-90fd9162-bbed-47cf-a5b8-c5e5bbf46fcf button.colab-df-convert');\n",
              "        buttonEl.style.display =\n",
              "          google.colab.kernel.accessAllowed ? 'block' : 'none';\n",
              "\n",
              "        async function convertToInteractive(key) {\n",
              "          const element = document.querySelector('#df-90fd9162-bbed-47cf-a5b8-c5e5bbf46fcf');\n",
              "          const dataTable =\n",
              "            await google.colab.kernel.invokeFunction('convertToInteractive',\n",
              "                                                     [key], {});\n",
              "          if (!dataTable) return;\n",
              "\n",
              "          const docLinkHtml = 'Like what you see? Visit the ' +\n",
              "            '<a target=\"_blank\" href=https://colab.research.google.com/notebooks/data_table.ipynb>data table notebook</a>'\n",
              "            + ' to learn more about interactive tables.';\n",
              "          element.innerHTML = '';\n",
              "          dataTable['output_type'] = 'display_data';\n",
              "          await google.colab.output.renderOutput(dataTable, element);\n",
              "          const docLink = document.createElement('div');\n",
              "          docLink.innerHTML = docLinkHtml;\n",
              "          element.appendChild(docLink);\n",
              "        }\n",
              "      </script>\n",
              "    </div>\n",
              "  </div>\n",
              "  "
            ]
          },
          "metadata": {},
          "execution_count": 13
        }
      ],
      "source": [
        "#visualizamos las nuevas columnas\n",
        "epl.head()"
      ]
    },
    {
      "cell_type": "code",
      "source": [
        "epl.shape"
      ],
      "metadata": {
        "colab": {
          "base_uri": "https://localhost:8080/"
        },
        "id": "XH6FNCHoWBiJ",
        "outputId": "f2742d2f-e664-4eaa-b9bc-c94b65c4873c"
      },
      "execution_count": null,
      "outputs": [
        {
          "output_type": "execute_result",
          "data": {
            "text/plain": [
              "(532, 20)"
            ]
          },
          "metadata": {},
          "execution_count": 14
        }
      ]
    },
    {
      "cell_type": "code",
      "source": [
        "epl.columns"
      ],
      "metadata": {
        "colab": {
          "base_uri": "https://localhost:8080/"
        },
        "id": "3lpNftLJWEH3",
        "outputId": "ce9c13e1-fe4a-445b-e63b-5e780f9b295d"
      },
      "execution_count": null,
      "outputs": [
        {
          "output_type": "execute_result",
          "data": {
            "text/plain": [
              "Index(['Name', 'Club', 'Nationality', 'Position', 'Age', 'Matches', 'Starts',\n",
              "       'Mins', 'Goals', 'Assists', 'Passes_Attempted', 'Perc_Passes_Completed',\n",
              "       'Penalty_Goals', 'Penalty_Attempted', 'xG', 'xA', 'Yellow_Cards',\n",
              "       'Red_Cards', 'MinPerMatch', 'GoalsPerMatch'],\n",
              "      dtype='object')"
            ]
          },
          "metadata": {},
          "execution_count": 15
        }
      ]
    },
    {
      "cell_type": "code",
      "execution_count": null,
      "metadata": {
        "id": "pesyNVX_DgEd",
        "colab": {
          "base_uri": "https://localhost:8080/"
        },
        "outputId": "efc37c6d-2514-4701-ba6f-c36c4e5abfbc"
      },
      "outputs": [
        {
          "output_type": "execute_result",
          "data": {
            "text/plain": [
              "986"
            ]
          },
          "metadata": {},
          "execution_count": 16
        }
      ],
      "source": [
        "#Total de goles ---- temporada EPL 2020-2021 ultima temporada\n",
        "Total_Goals = epl['Goals'].sum()\n",
        "Total_Goals"
      ]
    },
    {
      "cell_type": "code",
      "execution_count": null,
      "metadata": {
        "id": "gkebQV3UDgEe",
        "colab": {
          "base_uri": "https://localhost:8080/"
        },
        "outputId": "cf286382-f4c8-4513-a321-e9643a611fd7"
      },
      "outputs": [
        {
          "output_type": "execute_result",
          "data": {
            "text/plain": [
              "102"
            ]
          },
          "metadata": {},
          "execution_count": 17
        }
      ],
      "source": [
        "#Goles x Penales ---- temporada EPL 2020-2021 ultima temporada\n",
        "Total_PenaltyGoals = epl['Penalty_Goals'].sum()\n",
        "Total_PenaltyGoals"
      ]
    },
    {
      "cell_type": "code",
      "execution_count": null,
      "metadata": {
        "id": "uIZf_d6oDgEe",
        "colab": {
          "base_uri": "https://localhost:8080/"
        },
        "outputId": "3cd6407f-9743-4fe1-b365-9a0ec3f8e826"
      },
      "outputs": [
        {
          "output_type": "execute_result",
          "data": {
            "text/plain": [
              "125"
            ]
          },
          "metadata": {},
          "execution_count": 18
        }
      ],
      "source": [
        "# Total Penales ---- temporada EPL 2020-2021 ultima temporada\n",
        "Total_PenaltyAttempts = epl['Penalty_Attempted'].sum()\n",
        "Total_PenaltyAttempts"
      ]
    },
    {
      "cell_type": "markdown",
      "metadata": {
        "id": "4k_NP--wDgEf"
      },
      "source": [
        "### Gráfico Pie chart **Penales Marcados** y **Penales Atajados**."
      ]
    },
    {
      "cell_type": "code",
      "execution_count": null,
      "metadata": {
        "colab": {
          "base_uri": "https://localhost:8080/",
          "height": 357
        },
        "id": "Vr5dpbirDgEg",
        "outputId": "5ecb5be9-418b-4e5c-fb69-f70510ed4fa4"
      },
      "outputs": [
        {
          "output_type": "display_data",
          "data": {
            "text/plain": [
              "<Figure size 936x432 with 1 Axes>"
            ],
            "image/png": "[encoded data removed]"
          },
          "metadata": {}
        }
      ],
      "source": [
        "# Gráficos de penales\n",
        "plt.figure(figsize=(13,6))\n",
        "pl_not_scored = epl['Penalty_Attempted'].sum()-Total_PenaltyGoals\n",
        "\n",
        "data = [pl_not_scored, Total_PenaltyGoals]\n",
        "nom = [\"Penales Atajados\", \"Penales Marcados\"]\n",
        "colores= sns.color_palette(\"Set2\")\n",
        "plt.pie(data, labels=nom, colors=colores, autopct=\"%.0f%%\")\n",
        "plt.show()"
      ]
    },
    {
      "cell_type": "code",
      "source": [
        "epl.columns"
      ],
      "metadata": {
        "colab": {
          "base_uri": "https://localhost:8080/"
        },
        "id": "ryCVFu5hX2JS",
        "outputId": "c453b8f9-bc17-40b9-cec2-4c5bb3fb8dc3"
      },
      "execution_count": null,
      "outputs": [
        {
          "output_type": "execute_result",
          "data": {
            "text/plain": [
              "Index(['Name', 'Club', 'Nationality', 'Position', 'Age', 'Matches', 'Starts',\n",
              "       'Mins', 'Goals', 'Assists', 'Passes_Attempted', 'Perc_Passes_Completed',\n",
              "       'Penalty_Goals', 'Penalty_Attempted', 'xG', 'xA', 'Yellow_Cards',\n",
              "       'Red_Cards', 'MinPerMatch', 'GoalsPerMatch'],\n",
              "      dtype='object')"
            ]
          },
          "metadata": {},
          "execution_count": 20
        }
      ]
    },
    {
      "cell_type": "code",
      "execution_count": null,
      "metadata": {
        "id": "WUbsuFOpDgEg",
        "colab": {
          "base_uri": "https://localhost:8080/"
        },
        "outputId": "68212946-519a-406f-d1fb-73feab65d3f0"
      },
      "outputs": [
        {
          "output_type": "execute_result",
          "data": {
            "text/plain": [
              "array(['MF,FW', 'GK', 'FW', 'DF', 'MF', 'FW,MF', 'FW,DF', 'DF,MF',\n",
              "       'MF,DF', 'DF,FW'], dtype=object)"
            ]
          },
          "metadata": {},
          "execution_count": 21
        }
      ],
      "source": [
        "# Posiciones únicas de cada jugador \n",
        "# Portero (GK), defensor (DF), centrocampista (MF) delantero (FW)\n",
        "epl['Position'].unique()"
      ]
    },
    {
      "cell_type": "code",
      "execution_count": null,
      "metadata": {
        "id": "xlLrn0kyDgEh",
        "colab": {
          "base_uri": "https://localhost:8080/",
          "height": 678
        },
        "outputId": "e2f9f334-26fa-44a7-9fb7-fa19562c5bf6"
      },
      "outputs": [
        {
          "output_type": "execute_result",
          "data": {
            "text/plain": [
              "                   Name              Club Nationality Position  Age  Matches  \\\n",
              "2           Timo Werner           Chelsea         GER       FW   24       35   \n",
              "16        Tammy Abraham           Chelsea         ENG       FW   22       22   \n",
              "19       Olivier Giroud           Chelsea         FRA       FW   33       17   \n",
              "23   Ruben Loftus-Cheek           Chelsea         ENG       FW   24        1   \n",
              "30      Raheem Sterling   Manchester City         ENG       FW   25       31   \n",
              "..                  ...               ...         ...      ...  ...      ...   \n",
              "516        Oliver Burke  Sheffield United         SCO       FW   23       25   \n",
              "518     Oliver McBurnie  Sheffield United         SCO       FW   24       23   \n",
              "519      Rhian Brewster  Sheffield United         ENG       FW   20       27   \n",
              "523         Billy Sharp  Sheffield United         ENG       FW   34       16   \n",
              "526     Daniel Jebbison  Sheffield United         ENG       FW   17        4   \n",
              "\n",
              "     Starts  Mins  Goals  Assists  Passes_Attempted  Perc_Passes_Completed  \\\n",
              "2        29  2602      6        8               826                   77.2   \n",
              "16       12  1040      6        1               218                   68.3   \n",
              "19        8   748      4        0               217                   74.2   \n",
              "23        1    60      0        0                16                   68.8   \n",
              "30       28  2536     10        7              1127                   85.4   \n",
              "..      ...   ...    ...      ...               ...                    ...   \n",
              "516      14  1269      1        1               262                   70.6   \n",
              "518      12  1324      1        0               426                   62.9   \n",
              "519      12  1128      0        0               225                   69.3   \n",
              "523       7   735      3        0               123                   69.9   \n",
              "526       3   284      1        0                34                   70.6   \n",
              "\n",
              "     Penalty_Goals  Penalty_Attempted    xG    xA  Yellow_Cards  Red_Cards  \\\n",
              "2                0                  0  0.41  0.21             2          0   \n",
              "16               0                  0  0.56  0.07             0          0   \n",
              "19               0                  0  0.58  0.09             1          0   \n",
              "23               0                  0  0.00  0.00             0          0   \n",
              "30               0                  1  0.43  0.17             4          0   \n",
              "..             ...                ...   ...   ...           ...        ...   \n",
              "516              0                  0  0.17  0.13             2          0   \n",
              "518              0                  0  0.21  0.07             2          0   \n",
              "519              0                  0  0.14  0.13             1          0   \n",
              "523              2                  2  0.33  0.07             1          0   \n",
              "526              0                  0  0.50  0.01             0          0   \n",
              "\n",
              "     MinPerMatch  GoalsPerMatch  \n",
              "2             74       0.171429  \n",
              "16            47       0.272727  \n",
              "19            44       0.235294  \n",
              "23            60       0.000000  \n",
              "30            81       0.322581  \n",
              "..           ...            ...  \n",
              "516           50       0.040000  \n",
              "518           57       0.043478  \n",
              "519           41       0.000000  \n",
              "523           45       0.187500  \n",
              "526           71       0.250000  \n",
              "\n",
              "[81 rows x 20 columns]"
            ],
            "text/html": [
              "\n",
              "  <div id=\"df-e8b21e62-1106-4a08-8643-c14c4c5ef21e\">\n",
              "    <div class=\"colab-df-container\">\n",
              "      <div>\n",
              "<style scoped>\n",
              "    .dataframe tbody tr th:only-of-type {\n",
              "        vertical-align: middle;\n",
              "    }\n",
              "\n",
              "    .dataframe tbody tr th {\n",
              "        vertical-align: top;\n",
              "    }\n",
              "\n",
              "    .dataframe thead th {\n",
              "        text-align: right;\n",
              "    }\n",
              "</style>\n",
              "<table border=\"1\" class=\"dataframe\">\n",
              "  <thead>\n",
              "    <tr style=\"text-align: right;\">\n",
              "      <th></th>\n",
              "      <th>Name</th>\n",
              "      <th>Club</th>\n",
              "      <th>Nationality</th>\n",
              "      <th>Position</th>\n",
              "      <th>Age</th>\n",
              "      <th>Matches</th>\n",
              "      <th>Starts</th>\n",
              "      <th>Mins</th>\n",
              "      <th>Goals</th>\n",
              "      <th>Assists</th>\n",
              "      <th>Passes_Attempted</th>\n",
              "      <th>Perc_Passes_Completed</th>\n",
              "      <th>Penalty_Goals</th>\n",
              "      <th>Penalty_Attempted</th>\n",
              "      <th>xG</th>\n",
              "      <th>xA</th>\n",
              "      <th>Yellow_Cards</th>\n",
              "      <th>Red_Cards</th>\n",
              "      <th>MinPerMatch</th>\n",
              "      <th>GoalsPerMatch</th>\n",
              "    </tr>\n",
              "  </thead>\n",
              "  <tbody>\n",
              "    <tr>\n",
              "      <th>2</th>\n",
              "      <td>Timo Werner</td>\n",
              "      <td>Chelsea</td>\n",
              "      <td>GER</td>\n",
              "      <td>FW</td>\n",
              "      <td>24</td>\n",
              "      <td>35</td>\n",
              "      <td>29</td>\n",
              "      <td>2602</td>\n",
              "      <td>6</td>\n",
              "      <td>8</td>\n",
              "      <td>826</td>\n",
              "      <td>77.2</td>\n",
              "      <td>0</td>\n",
              "      <td>0</td>\n",
              "      <td>0.41</td>\n",
              "      <td>0.21</td>\n",
              "      <td>2</td>\n",
              "      <td>0</td>\n",
              "      <td>74</td>\n",
              "      <td>0.171429</td>\n",
              "    </tr>\n",
              "    <tr>\n",
              "      <th>16</th>\n",
              "      <td>Tammy Abraham</td>\n",
              "      <td>Chelsea</td>\n",
              "      <td>ENG</td>\n",
              "      <td>FW</td>\n",
              "      <td>22</td>\n",
              "      <td>22</td>\n",
              "      <td>12</td>\n",
              "      <td>1040</td>\n",
              "      <td>6</td>\n",
              "      <td>1</td>\n",
              "      <td>218</td>\n",
              "      <td>68.3</td>\n",
              "      <td>0</td>\n",
              "      <td>0</td>\n",
              "      <td>0.56</td>\n",
              "      <td>0.07</td>\n",
              "      <td>0</td>\n",
              "      <td>0</td>\n",
              "      <td>47</td>\n",
              "      <td>0.272727</td>\n",
              "    </tr>\n",
              "    <tr>\n",
              "      <th>19</th>\n",
              "      <td>Olivier Giroud</td>\n",
              "      <td>Chelsea</td>\n",
              "      <td>FRA</td>\n",
              "      <td>FW</td>\n",
              "      <td>33</td>\n",
              "      <td>17</td>\n",
              "      <td>8</td>\n",
              "      <td>748</td>\n",
              "      <td>4</td>\n",
              "      <td>0</td>\n",
              "      <td>217</td>\n",
              "      <td>74.2</td>\n",
              "      <td>0</td>\n",
              "      <td>0</td>\n",
              "      <td>0.58</td>\n",
              "      <td>0.09</td>\n",
              "      <td>1</td>\n",
              "      <td>0</td>\n",
              "      <td>44</td>\n",
              "      <td>0.235294</td>\n",
              "    </tr>\n",
              "    <tr>\n",
              "      <th>23</th>\n",
              "      <td>Ruben Loftus-Cheek</td>\n",
              "      <td>Chelsea</td>\n",
              "      <td>ENG</td>\n",
              "      <td>FW</td>\n",
              "      <td>24</td>\n",
              "      <td>1</td>\n",
              "      <td>1</td>\n",
              "      <td>60</td>\n",
              "      <td>0</td>\n",
              "      <td>0</td>\n",
              "      <td>16</td>\n",
              "      <td>68.8</td>\n",
              "      <td>0</td>\n",
              "      <td>0</td>\n",
              "      <td>0.00</td>\n",
              "      <td>0.00</td>\n",
              "      <td>0</td>\n",
              "      <td>0</td>\n",
              "      <td>60</td>\n",
              "      <td>0.000000</td>\n",
              "    </tr>\n",
              "    <tr>\n",
              "      <th>30</th>\n",
              "      <td>Raheem Sterling</td>\n",
              "      <td>Manchester City</td>\n",
              "      <td>ENG</td>\n",
              "      <td>FW</td>\n",
              "      <td>25</td>\n",
              "      <td>31</td>\n",
              "      <td>28</td>\n",
              "      <td>2536</td>\n",
              "      <td>10</td>\n",
              "      <td>7</td>\n",
              "      <td>1127</td>\n",
              "      <td>85.4</td>\n",
              "      <td>0</td>\n",
              "      <td>1</td>\n",
              "      <td>0.43</td>\n",
              "      <td>0.17</td>\n",
              "      <td>4</td>\n",
              "      <td>0</td>\n",
              "      <td>81</td>\n",
              "      <td>0.322581</td>\n",
              "    </tr>\n",
              "    <tr>\n",
              "      <th>...</th>\n",
              "      <td>...</td>\n",
              "      <td>...</td>\n",
              "      <td>...</td>\n",
              "      <td>...</td>\n",
              "      <td>...</td>\n",
              "      <td>...</td>\n",
              "      <td>...</td>\n",
              "      <td>...</td>\n",
              "      <td>...</td>\n",
              "      <td>...</td>\n",
              "      <td>...</td>\n",
              "      <td>...</td>\n",
              "      <td>...</td>\n",
              "      <td>...</td>\n",
              "      <td>...</td>\n",
              "      <td>...</td>\n",
              "      <td>...</td>\n",
              "      <td>...</td>\n",
              "      <td>...</td>\n",
              "      <td>...</td>\n",
              "    </tr>\n",
              "    <tr>\n",
              "      <th>516</th>\n",
              "      <td>Oliver Burke</td>\n",
              "      <td>Sheffield United</td>\n",
              "      <td>SCO</td>\n",
              "      <td>FW</td>\n",
              "      <td>23</td>\n",
              "      <td>25</td>\n",
              "      <td>14</td>\n",
              "      <td>1269</td>\n",
              "      <td>1</td>\n",
              "      <td>1</td>\n",
              "      <td>262</td>\n",
              "      <td>70.6</td>\n",
              "      <td>0</td>\n",
              "      <td>0</td>\n",
              "      <td>0.17</td>\n",
              "      <td>0.13</td>\n",
              "      <td>2</td>\n",
              "      <td>0</td>\n",
              "      <td>50</td>\n",
              "      <td>0.040000</td>\n",
              "    </tr>\n",
              "    <tr>\n",
              "      <th>518</th>\n",
              "      <td>Oliver McBurnie</td>\n",
              "      <td>Sheffield United</td>\n",
              "      <td>SCO</td>\n",
              "      <td>FW</td>\n",
              "      <td>24</td>\n",
              "      <td>23</td>\n",
              "      <td>12</td>\n",
              "      <td>1324</td>\n",
              "      <td>1</td>\n",
              "      <td>0</td>\n",
              "      <td>426</td>\n",
              "      <td>62.9</td>\n",
              "      <td>0</td>\n",
              "      <td>0</td>\n",
              "      <td>0.21</td>\n",
              "      <td>0.07</td>\n",
              "      <td>2</td>\n",
              "      <td>0</td>\n",
              "      <td>57</td>\n",
              "      <td>0.043478</td>\n",
              "    </tr>\n",
              "    <tr>\n",
              "      <th>519</th>\n",
              "      <td>Rhian Brewster</td>\n",
              "      <td>Sheffield United</td>\n",
              "      <td>ENG</td>\n",
              "      <td>FW</td>\n",
              "      <td>20</td>\n",
              "      <td>27</td>\n",
              "      <td>12</td>\n",
              "      <td>1128</td>\n",
              "      <td>0</td>\n",
              "      <td>0</td>\n",
              "      <td>225</td>\n",
              "      <td>69.3</td>\n",
              "      <td>0</td>\n",
              "      <td>0</td>\n",
              "      <td>0.14</td>\n",
              "      <td>0.13</td>\n",
              "      <td>1</td>\n",
              "      <td>0</td>\n",
              "      <td>41</td>\n",
              "      <td>0.000000</td>\n",
              "    </tr>\n",
              "    <tr>\n",
              "      <th>523</th>\n",
              "      <td>Billy Sharp</td>\n",
              "      <td>Sheffield United</td>\n",
              "      <td>ENG</td>\n",
              "      <td>FW</td>\n",
              "      <td>34</td>\n",
              "      <td>16</td>\n",
              "      <td>7</td>\n",
              "      <td>735</td>\n",
              "      <td>3</td>\n",
              "      <td>0</td>\n",
              "      <td>123</td>\n",
              "      <td>69.9</td>\n",
              "      <td>2</td>\n",
              "      <td>2</td>\n",
              "      <td>0.33</td>\n",
              "      <td>0.07</td>\n",
              "      <td>1</td>\n",
              "      <td>0</td>\n",
              "      <td>45</td>\n",
              "      <td>0.187500</td>\n",
              "    </tr>\n",
              "    <tr>\n",
              "      <th>526</th>\n",
              "      <td>Daniel Jebbison</td>\n",
              "      <td>Sheffield United</td>\n",
              "      <td>ENG</td>\n",
              "      <td>FW</td>\n",
              "      <td>17</td>\n",
              "      <td>4</td>\n",
              "      <td>3</td>\n",
              "      <td>284</td>\n",
              "      <td>1</td>\n",
              "      <td>0</td>\n",
              "      <td>34</td>\n",
              "      <td>70.6</td>\n",
              "      <td>0</td>\n",
              "      <td>0</td>\n",
              "      <td>0.50</td>\n",
              "      <td>0.01</td>\n",
              "      <td>0</td>\n",
              "      <td>0</td>\n",
              "      <td>71</td>\n",
              "      <td>0.250000</td>\n",
              "    </tr>\n",
              "  </tbody>\n",
              "</table>\n",
              "<p>81 rows × 20 columns</p>\n",
              "</div>\n",
              "      <button class=\"colab-df-convert\" onclick=\"convertToInteractive('df-e8b21e62-1106-4a08-8643-c14c4c5ef21e')\"\n",
              "              title=\"Convert this dataframe to an interactive table.\"\n",
              "              style=\"display:none;\">\n",
              "        \n",
              "  <svg xmlns=\"http://www.w3.org/2000/svg\" height=\"24px\"viewBox=\"0 0 24 24\"\n",
              "       width=\"24px\">\n",
              "    <path d=\"M0 0h24v24H0V0z\" fill=\"none\"/>\n",
              "    <path d=\"M18.56 5.44l.94 2.06.94-2.06 2.06-.94-2.06-.94-.94-2.06-.94 2.06-2.06.94zm-11 1L8.5 8.5l.94-2.06 2.06-.94-2.06-.94L8.5 2.5l-.94 2.06-2.06.94zm10 10l.94 2.06.94-2.06 2.06-.94-2.06-.94-.94-2.06-.94 2.06-2.06.94z\"/><path d=\"M17.41 7.96l-1.37-1.37c-.4-.4-.92-.59-1.43-.59-.52 0-1.04.2-1.43.59L10.3 9.45l-7.72 7.72c-.78.78-.78 2.05 0 2.83L4 21.41c.39.39.9.59 1.41.59.51 0 1.02-.2 1.41-.59l7.78-7.78 2.81-2.81c.8-.78.8-2.07 0-2.86zM5.41 20L4 18.59l7.72-7.72 1.47 1.35L5.41 20z\"/>\n",
              "  </svg>\n",
              "      </button>\n",
              "      \n",
              "  <style>\n",
              "    .colab-df-container {\n",
              "      display:flex;\n",
              "      flex-wrap:wrap;\n",
              "      gap: 12px;\n",
              "    }\n",
              "\n",
              "    .colab-df-convert {\n",
              "      background-color: #E8F0FE;\n",
              "      border: none;\n",
              "      border-radius: 50%;\n",
              "      cursor: pointer;\n",
              "      display: none;\n",
              "      fill: #1967D2;\n",
              "      height: 32px;\n",
              "      padding: 0 0 0 0;\n",
              "      width: 32px;\n",
              "    }\n",
              "\n",
              "    .colab-df-convert:hover {\n",
              "      background-color: #E2EBFA;\n",
              "      box-shadow: 0px 1px 2px rgba(60, 64, 67, 0.3), 0px 1px 3px 1px rgba(60, 64, 67, 0.15);\n",
              "      fill: #174EA6;\n",
              "    }\n",
              "\n",
              "    [theme=dark] .colab-df-convert {\n",
              "      background-color: #3B4455;\n",
              "      fill: #D2E3FC;\n",
              "    }\n",
              "\n",
              "    [theme=dark] .colab-df-convert:hover {\n",
              "      background-color: #434B5C;\n",
              "      box-shadow: 0px 1px 3px 1px rgba(0, 0, 0, 0.15);\n",
              "      filter: drop-shadow(0px 1px 2px rgba(0, 0, 0, 0.3));\n",
              "      fill: #FFFFFF;\n",
              "    }\n",
              "  </style>\n",
              "\n",
              "      <script>\n",
              "        const buttonEl =\n",
              "          document.querySelector('#df-e8b21e62-1106-4a08-8643-c14c4c5ef21e button.colab-df-convert');\n",
              "        buttonEl.style.display =\n",
              "          google.colab.kernel.accessAllowed ? 'block' : 'none';\n",
              "\n",
              "        async function convertToInteractive(key) {\n",
              "          const element = document.querySelector('#df-e8b21e62-1106-4a08-8643-c14c4c5ef21e');\n",
              "          const dataTable =\n",
              "            await google.colab.kernel.invokeFunction('convertToInteractive',\n",
              "                                                     [key], {});\n",
              "          if (!dataTable) return;\n",
              "\n",
              "          const docLinkHtml = 'Like what you see? Visit the ' +\n",
              "            '<a target=\"_blank\" href=https://colab.research.google.com/notebooks/data_table.ipynb>data table notebook</a>'\n",
              "            + ' to learn more about interactive tables.';\n",
              "          element.innerHTML = '';\n",
              "          dataTable['output_type'] = 'display_data';\n",
              "          await google.colab.output.renderOutput(dataTable, element);\n",
              "          const docLink = document.createElement('div');\n",
              "          docLink.innerHTML = docLinkHtml;\n",
              "          element.appendChild(docLink);\n",
              "        }\n",
              "      </script>\n",
              "    </div>\n",
              "  </div>\n",
              "  "
            ]
          },
          "metadata": {},
          "execution_count": 22
        }
      ],
      "source": [
        "# Filtrar jugadores delanteros (FW)\n",
        "epl[epl['Position'] == 'FW']"
      ]
    },
    {
      "cell_type": "code",
      "execution_count": null,
      "metadata": {
        "id": "y-TYIoe2DgEh",
        "colab": {
          "base_uri": "https://localhost:8080/"
        },
        "outputId": "5385197e-fbd4-4c54-fac1-071e2944e781"
      },
      "outputs": [
        {
          "output_type": "execute_result",
          "data": {
            "text/plain": [
              "81"
            ]
          },
          "metadata": {},
          "execution_count": 23
        }
      ],
      "source": [
        "# Cantidad jugadores delanteros (FW)\n",
        "epl_fw = epl[epl['Position'] == 'FW']\n",
        "epl_fw[\"Name\"].count()"
      ]
    },
    {
      "cell_type": "code",
      "execution_count": null,
      "metadata": {
        "id": "NcLHXV9_DgEi",
        "colab": {
          "base_uri": "https://localhost:8080/"
        },
        "outputId": "d12bbf93-2ff1-40e8-a334-759a04b9af9c"
      },
      "outputs": [
        {
          "output_type": "execute_result",
          "data": {
            "text/plain": [
              "59"
            ]
          },
          "metadata": {},
          "execution_count": 24
        }
      ],
      "source": [
        "#  Nacionalidad de los Jugadores\n",
        "np.size((epl[\"Nationality\"].unique()))"
      ]
    },
    {
      "cell_type": "code",
      "execution_count": null,
      "metadata": {
        "id": "XFRqZ3iyDgEj",
        "colab": {
          "base_uri": "https://localhost:8080/",
          "height": 419
        },
        "outputId": "4d495a50-7a37-41e6-b5e3-847b4263594e"
      },
      "outputs": [
        {
          "output_type": "execute_result",
          "data": {
            "text/plain": [
              "<function matplotlib.pyplot.show>"
            ]
          },
          "metadata": {},
          "execution_count": 25
        },
        {
          "output_type": "display_data",
          "data": {
            "text/plain": [
              "<Figure size 864x432 with 1 Axes>"
            ],
            "image/png": "[encoded data removed]"
          },
          "metadata": {
            "needs_background": "light"
          }
        }
      ],
      "source": [
        "# Nacionalidad de la mayoría de los jugadores\n",
        "nationality = epl.groupby(\"Nationality\").size().sort_values(ascending=False)\n",
        "nationality.head(10).plot(kind='bar', figsize=(12,6), color=sns.color_palette(\"magma\"))\n",
        "plt.show"
      ]
    },
    {
      "cell_type": "code",
      "execution_count": null,
      "metadata": {
        "id": "dMhxLCK-DgEj",
        "colab": {
          "base_uri": "https://localhost:8080/",
          "height": 385
        },
        "outputId": "2afa50b7-1781-4759-c473-c79fe8371bdf"
      },
      "outputs": [
        {
          "output_type": "execute_result",
          "data": {
            "text/plain": [
              "<function matplotlib.pyplot.show>"
            ]
          },
          "metadata": {},
          "execution_count": 26
        },
        {
          "output_type": "display_data",
          "data": {
            "text/plain": [
              "<Figure size 432x288 with 1 Axes>"
            ],
            "image/png": "[encoded data removed]"
          },
          "metadata": {
            "needs_background": "light"
          }
        }
      ],
      "source": [
        "# Los Club con maximo numero de jugadores en la temporada\n",
        "epl[\"Club\"].value_counts().nlargest(5).plot(kind = \"bar\",\n",
        "                                            color = sns.color_palette(\"viridis\"))\n",
        "plt.show"
      ]
    },
    {
      "cell_type": "code",
      "execution_count": null,
      "metadata": {
        "id": "43rrBWfoDgEk",
        "colab": {
          "base_uri": "https://localhost:8080/",
          "height": 371
        },
        "outputId": "6be65aa3-c1c7-4abb-e165-1f703a665b6d"
      },
      "outputs": [
        {
          "output_type": "execute_result",
          "data": {
            "text/plain": [
              "<function matplotlib.pyplot.show>"
            ]
          },
          "metadata": {},
          "execution_count": 27
        },
        {
          "output_type": "display_data",
          "data": {
            "text/plain": [
              "<Figure size 432x288 with 1 Axes>"
            ],
            "image/png": "[encoded data removed]"
          },
          "metadata": {
            "needs_background": "light"
          }
        }
      ],
      "source": [
        "# Los Club con menor numero de jugadores en la temporada\n",
        "epl[\"Club\"].value_counts().nsmallest(5).plot(kind = \"bar\",\n",
        "                                            color = sns.color_palette(\"viridis\"))\n",
        "plt.show"
      ]
    },
    {
      "cell_type": "markdown",
      "metadata": {
        "id": "fAGiPhZ_DgEk"
      },
      "source": [
        "### Edad de los jugadores"
      ]
    },
    {
      "cell_type": "code",
      "execution_count": null,
      "metadata": {
        "id": "gmEUMb2vDgEl"
      },
      "outputs": [],
      "source": [
        "# Grupo de edades de los Jugadores\n",
        "\n",
        "Under20 = epl[epl[\"Age\"]<=20]\n",
        "age20_25 = epl[(epl[\"Age\"]>20) & (epl[\"Age\"]<= 25)]\n",
        "age25_30 = epl[(epl[\"Age\"]>25) & (epl[\"Age\"]<=30)]\n",
        "Above30 = epl[epl[\"Age\"]> 30]"
      ]
    },
    {
      "cell_type": "code",
      "execution_count": null,
      "metadata": {
        "tags": [],
        "id": "x_mo0hsuDgEl",
        "colab": {
          "base_uri": "https://localhost:8080/",
          "height": 378
        },
        "outputId": "bbc4250d-f785-4c4c-9d72-7e43188b859a"
      },
      "outputs": [
        {
          "output_type": "display_data",
          "data": {
            "text/plain": [
              "<Figure size 936x432 with 1 Axes>"
            ],
            "image/png": "[encoded data removed]"
          },
          "metadata": {}
        }
      ],
      "source": [
        "# Pie Chart de los grupos de jugadores por edad\n",
        "x = np.array([Under20[\"Name\"].count(), age20_25[\"Name\"].count(),\n",
        "              age25_30[\"Name\"].count(), Above30[\"Name\"].count()])\n",
        "\n",
        "mylabels = [\"<=20\", \">20 & <=25\", \">25 & <=30\", \">30\"]\n",
        "\n",
        "plt.figure(figsize=(13,6))\n",
        "plt.title(\"Total de Jugadores por Grupos de Edad\", fontsize=20)\n",
        "plt.pie(x, labels =mylabels, autopct=\"%.1f%%\")\n",
        "plt.show()"
      ]
    },
    {
      "cell_type": "code",
      "execution_count": null,
      "metadata": {
        "id": "pj3ZGLXkDgEl",
        "colab": {
          "base_uri": "https://localhost:8080/",
          "height": 391
        },
        "outputId": "81d3c1a5-3c48-49a0-cdc7-b6527ae64c41"
      },
      "outputs": [
        {
          "output_type": "display_data",
          "data": {
            "text/plain": [
              "<Figure size 432x288 with 1 Axes>"
            ],
            "image/png": "[encoded data removed]"
          },
          "metadata": {
            "needs_background": "light"
          }
        }
      ],
      "source": [
        "# Total de jugadores menores de 20 años en cada club\n",
        "\n",
        "players_under_20 = epl[epl['Age'] <20]\n",
        "players_under_20['Club'].value_counts().plot(kind='bar',\n",
        "                                             color=sns.color_palette('cubehelix'))\n",
        "plt.show()"
      ]
    },
    {
      "cell_type": "code",
      "execution_count": null,
      "metadata": {
        "id": "-6UZf3IRDgEl",
        "colab": {
          "base_uri": "https://localhost:8080/",
          "height": 472
        },
        "outputId": "aa7289bf-edf8-4ac4-e2f9-f09fe5886309"
      },
      "outputs": [
        {
          "output_type": "execute_result",
          "data": {
            "text/plain": [
              "                   Name               Club Nationality Position  Age  Matches  \\\n",
              "61      Mason Greenwood  Manchester United         ENG       FW   18       31   \n",
              "72     Brandon Williams  Manchester United         ENG       DF   19        4   \n",
              "73          Amad Diallo  Manchester United         CIV       FW   18        3   \n",
              "74       Anthony Elanga  Manchester United         SWE       FW   18        2   \n",
              "76      Shola Shoretire  Manchester United         ENG       FW   16        2   \n",
              "78      Hannibal Mejbri  Manchester United         FRA       MF   17        1   \n",
              "79  William Thomas Fish  Manchester United         ENG       DF   17        1   \n",
              "\n",
              "    Starts  Mins  Goals  Assists  Passes_Attempted  Perc_Passes_Completed  \\\n",
              "61      21  1822      7        2               732                   83.1   \n",
              "72       2   188      0        0               140                   85.7   \n",
              "73       2   166      0        1                64                   84.4   \n",
              "74       2   155      1        0                53                   81.1   \n",
              "76       0    11      0        0                 8                   75.0   \n",
              "78       0     9      0        0                 3                  100.0   \n",
              "79       0     1      0        0                 1                    0.0   \n",
              "\n",
              "    Penalty_Goals  Penalty_Attempted    xG    xA  Yellow_Cards  Red_Cards  \\\n",
              "61              0                  0  0.37  0.09             2          0   \n",
              "72              0                  0  0.05  0.01             0          0   \n",
              "73              0                  0  0.02  0.26             0          0   \n",
              "74              0                  0  0.16  0.02             0          0   \n",
              "76              0                  0  0.00  0.00             0          0   \n",
              "78              0                  0  0.00  0.00             0          0   \n",
              "79              0                  0  0.00  0.00             0          0   \n",
              "\n",
              "    MinPerMatch  GoalsPerMatch  \n",
              "61           58       0.225806  \n",
              "72           47       0.000000  \n",
              "73           55       0.000000  \n",
              "74           77       0.500000  \n",
              "76            5       0.000000  \n",
              "78            9       0.000000  \n",
              "79            1       0.000000  "
            ],
            "text/html": [
              "\n",
              "  <div id=\"df-93bb8ec8-afac-4713-a641-c87ffc2ea61e\">\n",
              "    <div class=\"colab-df-container\">\n",
              "      <div>\n",
              "<style scoped>\n",
              "    .dataframe tbody tr th:only-of-type {\n",
              "        vertical-align: middle;\n",
              "    }\n",
              "\n",
              "    .dataframe tbody tr th {\n",
              "        vertical-align: top;\n",
              "    }\n",
              "\n",
              "    .dataframe thead th {\n",
              "        text-align: right;\n",
              "    }\n",
              "</style>\n",
              "<table border=\"1\" class=\"dataframe\">\n",
              "  <thead>\n",
              "    <tr style=\"text-align: right;\">\n",
              "      <th></th>\n",
              "      <th>Name</th>\n",
              "      <th>Club</th>\n",
              "      <th>Nationality</th>\n",
              "      <th>Position</th>\n",
              "      <th>Age</th>\n",
              "      <th>Matches</th>\n",
              "      <th>Starts</th>\n",
              "      <th>Mins</th>\n",
              "      <th>Goals</th>\n",
              "      <th>Assists</th>\n",
              "      <th>Passes_Attempted</th>\n",
              "      <th>Perc_Passes_Completed</th>\n",
              "      <th>Penalty_Goals</th>\n",
              "      <th>Penalty_Attempted</th>\n",
              "      <th>xG</th>\n",
              "      <th>xA</th>\n",
              "      <th>Yellow_Cards</th>\n",
              "      <th>Red_Cards</th>\n",
              "      <th>MinPerMatch</th>\n",
              "      <th>GoalsPerMatch</th>\n",
              "    </tr>\n",
              "  </thead>\n",
              "  <tbody>\n",
              "    <tr>\n",
              "      <th>61</th>\n",
              "      <td>Mason Greenwood</td>\n",
              "      <td>Manchester United</td>\n",
              "      <td>ENG</td>\n",
              "      <td>FW</td>\n",
              "      <td>18</td>\n",
              "      <td>31</td>\n",
              "      <td>21</td>\n",
              "      <td>1822</td>\n",
              "      <td>7</td>\n",
              "      <td>2</td>\n",
              "      <td>732</td>\n",
              "      <td>83.1</td>\n",
              "      <td>0</td>\n",
              "      <td>0</td>\n",
              "      <td>0.37</td>\n",
              "      <td>0.09</td>\n",
              "      <td>2</td>\n",
              "      <td>0</td>\n",
              "      <td>58</td>\n",
              "      <td>0.225806</td>\n",
              "    </tr>\n",
              "    <tr>\n",
              "      <th>72</th>\n",
              "      <td>Brandon Williams</td>\n",
              "      <td>Manchester United</td>\n",
              "      <td>ENG</td>\n",
              "      <td>DF</td>\n",
              "      <td>19</td>\n",
              "      <td>4</td>\n",
              "      <td>2</td>\n",
              "      <td>188</td>\n",
              "      <td>0</td>\n",
              "      <td>0</td>\n",
              "      <td>140</td>\n",
              "      <td>85.7</td>\n",
              "      <td>0</td>\n",
              "      <td>0</td>\n",
              "      <td>0.05</td>\n",
              "      <td>0.01</td>\n",
              "      <td>0</td>\n",
              "      <td>0</td>\n",
              "      <td>47</td>\n",
              "      <td>0.000000</td>\n",
              "    </tr>\n",
              "    <tr>\n",
              "      <th>73</th>\n",
              "      <td>Amad Diallo</td>\n",
              "      <td>Manchester United</td>\n",
              "      <td>CIV</td>\n",
              "      <td>FW</td>\n",
              "      <td>18</td>\n",
              "      <td>3</td>\n",
              "      <td>2</td>\n",
              "      <td>166</td>\n",
              "      <td>0</td>\n",
              "      <td>1</td>\n",
              "      <td>64</td>\n",
              "      <td>84.4</td>\n",
              "      <td>0</td>\n",
              "      <td>0</td>\n",
              "      <td>0.02</td>\n",
              "      <td>0.26</td>\n",
              "      <td>0</td>\n",
              "      <td>0</td>\n",
              "      <td>55</td>\n",
              "      <td>0.000000</td>\n",
              "    </tr>\n",
              "    <tr>\n",
              "      <th>74</th>\n",
              "      <td>Anthony Elanga</td>\n",
              "      <td>Manchester United</td>\n",
              "      <td>SWE</td>\n",
              "      <td>FW</td>\n",
              "      <td>18</td>\n",
              "      <td>2</td>\n",
              "      <td>2</td>\n",
              "      <td>155</td>\n",
              "      <td>1</td>\n",
              "      <td>0</td>\n",
              "      <td>53</td>\n",
              "      <td>81.1</td>\n",
              "      <td>0</td>\n",
              "      <td>0</td>\n",
              "      <td>0.16</td>\n",
              "      <td>0.02</td>\n",
              "      <td>0</td>\n",
              "      <td>0</td>\n",
              "      <td>77</td>\n",
              "      <td>0.500000</td>\n",
              "    </tr>\n",
              "    <tr>\n",
              "      <th>76</th>\n",
              "      <td>Shola Shoretire</td>\n",
              "      <td>Manchester United</td>\n",
              "      <td>ENG</td>\n",
              "      <td>FW</td>\n",
              "      <td>16</td>\n",
              "      <td>2</td>\n",
              "      <td>0</td>\n",
              "      <td>11</td>\n",
              "      <td>0</td>\n",
              "      <td>0</td>\n",
              "      <td>8</td>\n",
              "      <td>75.0</td>\n",
              "      <td>0</td>\n",
              "      <td>0</td>\n",
              "      <td>0.00</td>\n",
              "      <td>0.00</td>\n",
              "      <td>0</td>\n",
              "      <td>0</td>\n",
              "      <td>5</td>\n",
              "      <td>0.000000</td>\n",
              "    </tr>\n",
              "    <tr>\n",
              "      <th>78</th>\n",
              "      <td>Hannibal Mejbri</td>\n",
              "      <td>Manchester United</td>\n",
              "      <td>FRA</td>\n",
              "      <td>MF</td>\n",
              "      <td>17</td>\n",
              "      <td>1</td>\n",
              "      <td>0</td>\n",
              "      <td>9</td>\n",
              "      <td>0</td>\n",
              "      <td>0</td>\n",
              "      <td>3</td>\n",
              "      <td>100.0</td>\n",
              "      <td>0</td>\n",
              "      <td>0</td>\n",
              "      <td>0.00</td>\n",
              "      <td>0.00</td>\n",
              "      <td>0</td>\n",
              "      <td>0</td>\n",
              "      <td>9</td>\n",
              "      <td>0.000000</td>\n",
              "    </tr>\n",
              "    <tr>\n",
              "      <th>79</th>\n",
              "      <td>William Thomas Fish</td>\n",
              "      <td>Manchester United</td>\n",
              "      <td>ENG</td>\n",
              "      <td>DF</td>\n",
              "      <td>17</td>\n",
              "      <td>1</td>\n",
              "      <td>0</td>\n",
              "      <td>1</td>\n",
              "      <td>0</td>\n",
              "      <td>0</td>\n",
              "      <td>1</td>\n",
              "      <td>0.0</td>\n",
              "      <td>0</td>\n",
              "      <td>0</td>\n",
              "      <td>0.00</td>\n",
              "      <td>0.00</td>\n",
              "      <td>0</td>\n",
              "      <td>0</td>\n",
              "      <td>1</td>\n",
              "      <td>0.000000</td>\n",
              "    </tr>\n",
              "  </tbody>\n",
              "</table>\n",
              "</div>\n",
              "      <button class=\"colab-df-convert\" onclick=\"convertToInteractive('df-93bb8ec8-afac-4713-a641-c87ffc2ea61e')\"\n",
              "              title=\"Convert this dataframe to an interactive table.\"\n",
              "              style=\"display:none;\">\n",
              "        \n",
              "  <svg xmlns=\"http://www.w3.org/2000/svg\" height=\"24px\"viewBox=\"0 0 24 24\"\n",
              "       width=\"24px\">\n",
              "    <path d=\"M0 0h24v24H0V0z\" fill=\"none\"/>\n",
              "    <path d=\"M18.56 5.44l.94 2.06.94-2.06 2.06-.94-2.06-.94-.94-2.06-.94 2.06-2.06.94zm-11 1L8.5 8.5l.94-2.06 2.06-.94-2.06-.94L8.5 2.5l-.94 2.06-2.06.94zm10 10l.94 2.06.94-2.06 2.06-.94-2.06-.94-.94-2.06-.94 2.06-2.06.94z\"/><path d=\"M17.41 7.96l-1.37-1.37c-.4-.4-.92-.59-1.43-.59-.52 0-1.04.2-1.43.59L10.3 9.45l-7.72 7.72c-.78.78-.78 2.05 0 2.83L4 21.41c.39.39.9.59 1.41.59.51 0 1.02-.2 1.41-.59l7.78-7.78 2.81-2.81c.8-.78.8-2.07 0-2.86zM5.41 20L4 18.59l7.72-7.72 1.47 1.35L5.41 20z\"/>\n",
              "  </svg>\n",
              "      </button>\n",
              "      \n",
              "  <style>\n",
              "    .colab-df-container {\n",
              "      display:flex;\n",
              "      flex-wrap:wrap;\n",
              "      gap: 12px;\n",
              "    }\n",
              "\n",
              "    .colab-df-convert {\n",
              "      background-color: #E8F0FE;\n",
              "      border: none;\n",
              "      border-radius: 50%;\n",
              "      cursor: pointer;\n",
              "      display: none;\n",
              "      fill: #1967D2;\n",
              "      height: 32px;\n",
              "      padding: 0 0 0 0;\n",
              "      width: 32px;\n",
              "    }\n",
              "\n",
              "    .colab-df-convert:hover {\n",
              "      background-color: #E2EBFA;\n",
              "      box-shadow: 0px 1px 2px rgba(60, 64, 67, 0.3), 0px 1px 3px 1px rgba(60, 64, 67, 0.15);\n",
              "      fill: #174EA6;\n",
              "    }\n",
              "\n",
              "    [theme=dark] .colab-df-convert {\n",
              "      background-color: #3B4455;\n",
              "      fill: #D2E3FC;\n",
              "    }\n",
              "\n",
              "    [theme=dark] .colab-df-convert:hover {\n",
              "      background-color: #434B5C;\n",
              "      box-shadow: 0px 1px 3px 1px rgba(0, 0, 0, 0.15);\n",
              "      filter: drop-shadow(0px 1px 2px rgba(0, 0, 0, 0.3));\n",
              "      fill: #FFFFFF;\n",
              "    }\n",
              "  </style>\n",
              "\n",
              "      <script>\n",
              "        const buttonEl =\n",
              "          document.querySelector('#df-93bb8ec8-afac-4713-a641-c87ffc2ea61e button.colab-df-convert');\n",
              "        buttonEl.style.display =\n",
              "          google.colab.kernel.accessAllowed ? 'block' : 'none';\n",
              "\n",
              "        async function convertToInteractive(key) {\n",
              "          const element = document.querySelector('#df-93bb8ec8-afac-4713-a641-c87ffc2ea61e');\n",
              "          const dataTable =\n",
              "            await google.colab.kernel.invokeFunction('convertToInteractive',\n",
              "                                                     [key], {});\n",
              "          if (!dataTable) return;\n",
              "\n",
              "          const docLinkHtml = 'Like what you see? Visit the ' +\n",
              "            '<a target=\"_blank\" href=https://colab.research.google.com/notebooks/data_table.ipynb>data table notebook</a>'\n",
              "            + ' to learn more about interactive tables.';\n",
              "          element.innerHTML = '';\n",
              "          dataTable['output_type'] = 'display_data';\n",
              "          await google.colab.output.renderOutput(dataTable, element);\n",
              "          const docLink = document.createElement('div');\n",
              "          docLink.innerHTML = docLinkHtml;\n",
              "          element.appendChild(docLink);\n",
              "        }\n",
              "      </script>\n",
              "    </div>\n",
              "  </div>\n",
              "  "
            ]
          },
          "metadata": {},
          "execution_count": 31
        }
      ],
      "source": [
        "# Jugadores menores de 20 años en  club Manchester United (7)\n",
        "players_under_20[players_under_20['Club'] == \"Manchester United\"]"
      ]
    },
    {
      "cell_type": "code",
      "execution_count": null,
      "metadata": {
        "id": "RMqjIbJWDgEm",
        "colab": {
          "base_uri": "https://localhost:8080/",
          "height": 228
        },
        "outputId": "8ae0bd38-f0be-4957-ab50-75df2511d667"
      },
      "outputs": [
        {
          "output_type": "execute_result",
          "data": {
            "text/plain": [
              "                  Name     Club Nationality Position  Age  Matches  Starts  \\\n",
              "18  Callum Hudson-Odoi  Chelsea         ENG    FW,DF   19       23      10   \n",
              "21       Billy Gilmour  Chelsea         SCO       MF   19        5       3   \n",
              "\n",
              "    Mins  Goals  Assists  Passes_Attempted  Perc_Passes_Completed  \\\n",
              "18  1059      2        3               659                   82.2   \n",
              "21   261      0        0               215                   89.3   \n",
              "\n",
              "    Penalty_Goals  Penalty_Attempted    xG    xA  Yellow_Cards  Red_Cards  \\\n",
              "18              0                  0  0.12  0.26             0          0   \n",
              "21              0                  0  0.01  0.04             0          0   \n",
              "\n",
              "    MinPerMatch  GoalsPerMatch  \n",
              "18           46       0.086957  \n",
              "21           52       0.000000  "
            ],
            "text/html": [
              "\n",
              "  <div id=\"df-4eae9ec9-5821-4d1a-8a27-ca33510124b8\">\n",
              "    <div class=\"colab-df-container\">\n",
              "      <div>\n",
              "<style scoped>\n",
              "    .dataframe tbody tr th:only-of-type {\n",
              "        vertical-align: middle;\n",
              "    }\n",
              "\n",
              "    .dataframe tbody tr th {\n",
              "        vertical-align: top;\n",
              "    }\n",
              "\n",
              "    .dataframe thead th {\n",
              "        text-align: right;\n",
              "    }\n",
              "</style>\n",
              "<table border=\"1\" class=\"dataframe\">\n",
              "  <thead>\n",
              "    <tr style=\"text-align: right;\">\n",
              "      <th></th>\n",
              "      <th>Name</th>\n",
              "      <th>Club</th>\n",
              "      <th>Nationality</th>\n",
              "      <th>Position</th>\n",
              "      <th>Age</th>\n",
              "      <th>Matches</th>\n",
              "      <th>Starts</th>\n",
              "      <th>Mins</th>\n",
              "      <th>Goals</th>\n",
              "      <th>Assists</th>\n",
              "      <th>Passes_Attempted</th>\n",
              "      <th>Perc_Passes_Completed</th>\n",
              "      <th>Penalty_Goals</th>\n",
              "      <th>Penalty_Attempted</th>\n",
              "      <th>xG</th>\n",
              "      <th>xA</th>\n",
              "      <th>Yellow_Cards</th>\n",
              "      <th>Red_Cards</th>\n",
              "      <th>MinPerMatch</th>\n",
              "      <th>GoalsPerMatch</th>\n",
              "    </tr>\n",
              "  </thead>\n",
              "  <tbody>\n",
              "    <tr>\n",
              "      <th>18</th>\n",
              "      <td>Callum Hudson-Odoi</td>\n",
              "      <td>Chelsea</td>\n",
              "      <td>ENG</td>\n",
              "      <td>FW,DF</td>\n",
              "      <td>19</td>\n",
              "      <td>23</td>\n",
              "      <td>10</td>\n",
              "      <td>1059</td>\n",
              "      <td>2</td>\n",
              "      <td>3</td>\n",
              "      <td>659</td>\n",
              "      <td>82.2</td>\n",
              "      <td>0</td>\n",
              "      <td>0</td>\n",
              "      <td>0.12</td>\n",
              "      <td>0.26</td>\n",
              "      <td>0</td>\n",
              "      <td>0</td>\n",
              "      <td>46</td>\n",
              "      <td>0.086957</td>\n",
              "    </tr>\n",
              "    <tr>\n",
              "      <th>21</th>\n",
              "      <td>Billy Gilmour</td>\n",
              "      <td>Chelsea</td>\n",
              "      <td>SCO</td>\n",
              "      <td>MF</td>\n",
              "      <td>19</td>\n",
              "      <td>5</td>\n",
              "      <td>3</td>\n",
              "      <td>261</td>\n",
              "      <td>0</td>\n",
              "      <td>0</td>\n",
              "      <td>215</td>\n",
              "      <td>89.3</td>\n",
              "      <td>0</td>\n",
              "      <td>0</td>\n",
              "      <td>0.01</td>\n",
              "      <td>0.04</td>\n",
              "      <td>0</td>\n",
              "      <td>0</td>\n",
              "      <td>52</td>\n",
              "      <td>0.000000</td>\n",
              "    </tr>\n",
              "  </tbody>\n",
              "</table>\n",
              "</div>\n",
              "      <button class=\"colab-df-convert\" onclick=\"convertToInteractive('df-4eae9ec9-5821-4d1a-8a27-ca33510124b8')\"\n",
              "              title=\"Convert this dataframe to an interactive table.\"\n",
              "              style=\"display:none;\">\n",
              "        \n",
              "  <svg xmlns=\"http://www.w3.org/2000/svg\" height=\"24px\"viewBox=\"0 0 24 24\"\n",
              "       width=\"24px\">\n",
              "    <path d=\"M0 0h24v24H0V0z\" fill=\"none\"/>\n",
              "    <path d=\"M18.56 5.44l.94 2.06.94-2.06 2.06-.94-2.06-.94-.94-2.06-.94 2.06-2.06.94zm-11 1L8.5 8.5l.94-2.06 2.06-.94-2.06-.94L8.5 2.5l-.94 2.06-2.06.94zm10 10l.94 2.06.94-2.06 2.06-.94-2.06-.94-.94-2.06-.94 2.06-2.06.94z\"/><path d=\"M17.41 7.96l-1.37-1.37c-.4-.4-.92-.59-1.43-.59-.52 0-1.04.2-1.43.59L10.3 9.45l-7.72 7.72c-.78.78-.78 2.05 0 2.83L4 21.41c.39.39.9.59 1.41.59.51 0 1.02-.2 1.41-.59l7.78-7.78 2.81-2.81c.8-.78.8-2.07 0-2.86zM5.41 20L4 18.59l7.72-7.72 1.47 1.35L5.41 20z\"/>\n",
              "  </svg>\n",
              "      </button>\n",
              "      \n",
              "  <style>\n",
              "    .colab-df-container {\n",
              "      display:flex;\n",
              "      flex-wrap:wrap;\n",
              "      gap: 12px;\n",
              "    }\n",
              "\n",
              "    .colab-df-convert {\n",
              "      background-color: #E8F0FE;\n",
              "      border: none;\n",
              "      border-radius: 50%;\n",
              "      cursor: pointer;\n",
              "      display: none;\n",
              "      fill: #1967D2;\n",
              "      height: 32px;\n",
              "      padding: 0 0 0 0;\n",
              "      width: 32px;\n",
              "    }\n",
              "\n",
              "    .colab-df-convert:hover {\n",
              "      background-color: #E2EBFA;\n",
              "      box-shadow: 0px 1px 2px rgba(60, 64, 67, 0.3), 0px 1px 3px 1px rgba(60, 64, 67, 0.15);\n",
              "      fill: #174EA6;\n",
              "    }\n",
              "\n",
              "    [theme=dark] .colab-df-convert {\n",
              "      background-color: #3B4455;\n",
              "      fill: #D2E3FC;\n",
              "    }\n",
              "\n",
              "    [theme=dark] .colab-df-convert:hover {\n",
              "      background-color: #434B5C;\n",
              "      box-shadow: 0px 1px 3px 1px rgba(0, 0, 0, 0.15);\n",
              "      filter: drop-shadow(0px 1px 2px rgba(0, 0, 0, 0.3));\n",
              "      fill: #FFFFFF;\n",
              "    }\n",
              "  </style>\n",
              "\n",
              "      <script>\n",
              "        const buttonEl =\n",
              "          document.querySelector('#df-4eae9ec9-5821-4d1a-8a27-ca33510124b8 button.colab-df-convert');\n",
              "        buttonEl.style.display =\n",
              "          google.colab.kernel.accessAllowed ? 'block' : 'none';\n",
              "\n",
              "        async function convertToInteractive(key) {\n",
              "          const element = document.querySelector('#df-4eae9ec9-5821-4d1a-8a27-ca33510124b8');\n",
              "          const dataTable =\n",
              "            await google.colab.kernel.invokeFunction('convertToInteractive',\n",
              "                                                     [key], {});\n",
              "          if (!dataTable) return;\n",
              "\n",
              "          const docLinkHtml = 'Like what you see? Visit the ' +\n",
              "            '<a target=\"_blank\" href=https://colab.research.google.com/notebooks/data_table.ipynb>data table notebook</a>'\n",
              "            + ' to learn more about interactive tables.';\n",
              "          element.innerHTML = '';\n",
              "          dataTable['output_type'] = 'display_data';\n",
              "          await google.colab.output.renderOutput(dataTable, element);\n",
              "          const docLink = document.createElement('div');\n",
              "          docLink.innerHTML = docLinkHtml;\n",
              "          element.appendChild(docLink);\n",
              "        }\n",
              "      </script>\n",
              "    </div>\n",
              "  </div>\n",
              "  "
            ]
          },
          "metadata": {},
          "execution_count": 32
        }
      ],
      "source": [
        "# Jugadores menores de 20 años en  club Chelsea (7)\n",
        "players_under_20[players_under_20['Club'] == \"Chelsea\"]"
      ]
    },
    {
      "cell_type": "code",
      "execution_count": null,
      "metadata": {
        "tags": [],
        "id": "1Mf5exM0DgEm",
        "colab": {
          "base_uri": "https://localhost:8080/",
          "height": 514
        },
        "outputId": "11263a15-77ec-489c-cc3d-75232ef1e421"
      },
      "outputs": [
        {
          "output_type": "display_data",
          "data": {
            "text/plain": [
              "<Figure size 936x432 with 1 Axes>"
            ],
            "image/png": "[encoded data removed]"
          },
          "metadata": {
            "needs_background": "light"
          }
        }
      ],
      "source": [
        "# Gráfico BoxPlot de la edad promedio de los jugadores de cada club\n",
        "plt.figure(figsize=(13,6))\n",
        "sns.boxplot(x = 'Club', y = 'Age', data = epl)\n",
        "plt.xticks(rotation=90)\n",
        "plt.show()"
      ]
    },
    {
      "cell_type": "code",
      "execution_count": null,
      "metadata": {
        "tags": [],
        "id": "VXfuTj6IDgEm",
        "colab": {
          "base_uri": "https://localhost:8080/"
        },
        "outputId": "b21d4d92-055e-421b-cf45-5fb6da81e10a"
      },
      "outputs": [
        {
          "output_type": "execute_result",
          "data": {
            "text/plain": [
              "Club\n",
              "Crystal Palace             28.333333\n",
              "West Ham United            27.500000\n",
              "Burnley                    27.040000\n",
              "West Bromwich Albion       26.766667\n",
              "Newcastle United           26.074074\n",
              "Manchester City            25.708333\n",
              "Tottenham Hotspur          25.625000\n",
              "Chelsea                    25.592593\n",
              "Leicester City             25.592593\n",
              "Liverpool FC               25.571429\n",
              "Everton                    25.413793\n",
              "Leeds United               25.347826\n",
              "Fulham                     25.035714\n",
              "Arsenal                    24.965517\n",
              "Sheffield United           24.814815\n",
              "Brighton                   24.555556\n",
              "Wolverhampton Wanderers    24.444444\n",
              "Aston Villa                24.291667\n",
              "Southampton                24.137931\n",
              "Manchester United          23.862069\n",
              "dtype: float64"
            ]
          },
          "metadata": {},
          "execution_count": 34
        }
      ],
      "source": [
        "# Clubs con Edades promedio mas altas\n",
        "num_player = epl.groupby('Club').size()\n",
        "\n",
        "data = (epl.groupby('Club')['Age'].sum())/num_player\n",
        "\n",
        "data.sort_values(ascending=False)"
      ]
    },
    {
      "cell_type": "code",
      "execution_count": null,
      "metadata": {
        "tags": [],
        "id": "O9i6v7CdDgEn",
        "colab": {
          "base_uri": "https://localhost:8080/",
          "height": 455
        },
        "outputId": "69d86ef9-268f-42d3-8707-53231101696a"
      },
      "outputs": [
        {
          "output_type": "display_data",
          "data": {
            "text/plain": [
              "<Figure size 432x288 with 1 Axes>"
            ],
            "image/png": "[encoded data removed]"
          },
          "metadata": {}
        }
      ],
      "source": [
        "# Grafica de Total de asistencias gol por cada club\n",
        "\n",
        "Assits_by_club = pd.DataFrame(epl.groupby('Club', as_index=False)['Assists'].sum())\n",
        "sns.set(style='whitegrid', color_codes=True)\n",
        "ax = sns.barplot(x='Club', y='Assists', data=Assits_by_club.sort_values(by='Assists'), palette='Set2')\n",
        "ax.set_xlabel('Club', fontsize=25)\n",
        "ax.set_ylabel('Assist', fontsize=25)\n",
        "plt.xticks(rotation=75)\n",
        "\n",
        "plt.rcParams['figure.figsize'] = (20,8)\n",
        "plt.title('Gráfica de Club vs. Total de Asistencia Gol', fontsize=20)\n",
        "plt.show()"
      ]
    },
    {
      "cell_type": "code",
      "execution_count": null,
      "metadata": {
        "id": "NpKvA1EMDgEn",
        "colab": {
          "base_uri": "https://localhost:8080/",
          "height": 363
        },
        "outputId": "c2c1c985-f510-4bba-dee9-f71b178c2ea4"
      },
      "outputs": [
        {
          "output_type": "execute_result",
          "data": {
            "text/plain": [
              "                     Name               Club  Assists  Matches\n",
              "162            Harry Kane  Tottenham Hotspur       14       35\n",
              "34        Kevin De Bruyne    Manchester City       12       25\n",
              "51        Bruno Fernandes  Manchester United       12       37\n",
              "161         Son Heung-min  Tottenham Hotspur       10       37\n",
              "273         Jack Grealish        Aston Villa       10       26\n",
              "54        Marcus Rashford  Manchester United        9       37\n",
              "110           Jamie Vardy     Leicester City        9       34\n",
              "220  Raphael Dias Belloli       Leeds United        9       30\n",
              "2             Timo Werner            Chelsea        8       35\n",
              "136       Aaron Cresswell    West Ham United        8       36"
            ],
            "text/html": [
              "\n",
              "  <div id=\"df-bf6c7c53-7046-4bf3-9c76-f4bfde79b699\">\n",
              "    <div class=\"colab-df-container\">\n",
              "      <div>\n",
              "<style scoped>\n",
              "    .dataframe tbody tr th:only-of-type {\n",
              "        vertical-align: middle;\n",
              "    }\n",
              "\n",
              "    .dataframe tbody tr th {\n",
              "        vertical-align: top;\n",
              "    }\n",
              "\n",
              "    .dataframe thead th {\n",
              "        text-align: right;\n",
              "    }\n",
              "</style>\n",
              "<table border=\"1\" class=\"dataframe\">\n",
              "  <thead>\n",
              "    <tr style=\"text-align: right;\">\n",
              "      <th></th>\n",
              "      <th>Name</th>\n",
              "      <th>Club</th>\n",
              "      <th>Assists</th>\n",
              "      <th>Matches</th>\n",
              "    </tr>\n",
              "  </thead>\n",
              "  <tbody>\n",
              "    <tr>\n",
              "      <th>162</th>\n",
              "      <td>Harry Kane</td>\n",
              "      <td>Tottenham Hotspur</td>\n",
              "      <td>14</td>\n",
              "      <td>35</td>\n",
              "    </tr>\n",
              "    <tr>\n",
              "      <th>34</th>\n",
              "      <td>Kevin De Bruyne</td>\n",
              "      <td>Manchester City</td>\n",
              "      <td>12</td>\n",
              "      <td>25</td>\n",
              "    </tr>\n",
              "    <tr>\n",
              "      <th>51</th>\n",
              "      <td>Bruno Fernandes</td>\n",
              "      <td>Manchester United</td>\n",
              "      <td>12</td>\n",
              "      <td>37</td>\n",
              "    </tr>\n",
              "    <tr>\n",
              "      <th>161</th>\n",
              "      <td>Son Heung-min</td>\n",
              "      <td>Tottenham Hotspur</td>\n",
              "      <td>10</td>\n",
              "      <td>37</td>\n",
              "    </tr>\n",
              "    <tr>\n",
              "      <th>273</th>\n",
              "      <td>Jack Grealish</td>\n",
              "      <td>Aston Villa</td>\n",
              "      <td>10</td>\n",
              "      <td>26</td>\n",
              "    </tr>\n",
              "    <tr>\n",
              "      <th>54</th>\n",
              "      <td>Marcus Rashford</td>\n",
              "      <td>Manchester United</td>\n",
              "      <td>9</td>\n",
              "      <td>37</td>\n",
              "    </tr>\n",
              "    <tr>\n",
              "      <th>110</th>\n",
              "      <td>Jamie Vardy</td>\n",
              "      <td>Leicester City</td>\n",
              "      <td>9</td>\n",
              "      <td>34</td>\n",
              "    </tr>\n",
              "    <tr>\n",
              "      <th>220</th>\n",
              "      <td>Raphael Dias Belloli</td>\n",
              "      <td>Leeds United</td>\n",
              "      <td>9</td>\n",
              "      <td>30</td>\n",
              "    </tr>\n",
              "    <tr>\n",
              "      <th>2</th>\n",
              "      <td>Timo Werner</td>\n",
              "      <td>Chelsea</td>\n",
              "      <td>8</td>\n",
              "      <td>35</td>\n",
              "    </tr>\n",
              "    <tr>\n",
              "      <th>136</th>\n",
              "      <td>Aaron Cresswell</td>\n",
              "      <td>West Ham United</td>\n",
              "      <td>8</td>\n",
              "      <td>36</td>\n",
              "    </tr>\n",
              "  </tbody>\n",
              "</table>\n",
              "</div>\n",
              "      <button class=\"colab-df-convert\" onclick=\"convertToInteractive('df-bf6c7c53-7046-4bf3-9c76-f4bfde79b699')\"\n",
              "              title=\"Convert this dataframe to an interactive table.\"\n",
              "              style=\"display:none;\">\n",
              "        \n",
              "  <svg xmlns=\"http://www.w3.org/2000/svg\" height=\"24px\"viewBox=\"0 0 24 24\"\n",
              "       width=\"24px\">\n",
              "    <path d=\"M0 0h24v24H0V0z\" fill=\"none\"/>\n",
              "    <path d=\"M18.56 5.44l.94 2.06.94-2.06 2.06-.94-2.06-.94-.94-2.06-.94 2.06-2.06.94zm-11 1L8.5 8.5l.94-2.06 2.06-.94-2.06-.94L8.5 2.5l-.94 2.06-2.06.94zm10 10l.94 2.06.94-2.06 2.06-.94-2.06-.94-.94-2.06-.94 2.06-2.06.94z\"/><path d=\"M17.41 7.96l-1.37-1.37c-.4-.4-.92-.59-1.43-.59-.52 0-1.04.2-1.43.59L10.3 9.45l-7.72 7.72c-.78.78-.78 2.05 0 2.83L4 21.41c.39.39.9.59 1.41.59.51 0 1.02-.2 1.41-.59l7.78-7.78 2.81-2.81c.8-.78.8-2.07 0-2.86zM5.41 20L4 18.59l7.72-7.72 1.47 1.35L5.41 20z\"/>\n",
              "  </svg>\n",
              "      </button>\n",
              "      \n",
              "  <style>\n",
              "    .colab-df-container {\n",
              "      display:flex;\n",
              "      flex-wrap:wrap;\n",
              "      gap: 12px;\n",
              "    }\n",
              "\n",
              "    .colab-df-convert {\n",
              "      background-color: #E8F0FE;\n",
              "      border: none;\n",
              "      border-radius: 50%;\n",
              "      cursor: pointer;\n",
              "      display: none;\n",
              "      fill: #1967D2;\n",
              "      height: 32px;\n",
              "      padding: 0 0 0 0;\n",
              "      width: 32px;\n",
              "    }\n",
              "\n",
              "    .colab-df-convert:hover {\n",
              "      background-color: #E2EBFA;\n",
              "      box-shadow: 0px 1px 2px rgba(60, 64, 67, 0.3), 0px 1px 3px 1px rgba(60, 64, 67, 0.15);\n",
              "      fill: #174EA6;\n",
              "    }\n",
              "\n",
              "    [theme=dark] .colab-df-convert {\n",
              "      background-color: #3B4455;\n",
              "      fill: #D2E3FC;\n",
              "    }\n",
              "\n",
              "    [theme=dark] .colab-df-convert:hover {\n",
              "      background-color: #434B5C;\n",
              "      box-shadow: 0px 1px 3px 1px rgba(0, 0, 0, 0.15);\n",
              "      filter: drop-shadow(0px 1px 2px rgba(0, 0, 0, 0.3));\n",
              "      fill: #FFFFFF;\n",
              "    }\n",
              "  </style>\n",
              "\n",
              "      <script>\n",
              "        const buttonEl =\n",
              "          document.querySelector('#df-bf6c7c53-7046-4bf3-9c76-f4bfde79b699 button.colab-df-convert');\n",
              "        buttonEl.style.display =\n",
              "          google.colab.kernel.accessAllowed ? 'block' : 'none';\n",
              "\n",
              "        async function convertToInteractive(key) {\n",
              "          const element = document.querySelector('#df-bf6c7c53-7046-4bf3-9c76-f4bfde79b699');\n",
              "          const dataTable =\n",
              "            await google.colab.kernel.invokeFunction('convertToInteractive',\n",
              "                                                     [key], {});\n",
              "          if (!dataTable) return;\n",
              "\n",
              "          const docLinkHtml = 'Like what you see? Visit the ' +\n",
              "            '<a target=\"_blank\" href=https://colab.research.google.com/notebooks/data_table.ipynb>data table notebook</a>'\n",
              "            + ' to learn more about interactive tables.';\n",
              "          element.innerHTML = '';\n",
              "          dataTable['output_type'] = 'display_data';\n",
              "          await google.colab.output.renderOutput(dataTable, element);\n",
              "          const docLink = document.createElement('div');\n",
              "          docLink.innerHTML = docLinkHtml;\n",
              "          element.appendChild(docLink);\n",
              "        }\n",
              "      </script>\n",
              "    </div>\n",
              "  </div>\n",
              "  "
            ]
          },
          "metadata": {},
          "execution_count": 36
        }
      ],
      "source": [
        "# Jugadores top de 10 Asistencias Gol\n",
        "top_10_assists = epl[[\"Name\", 'Club', 'Assists','Matches']].nlargest(n=10, columns='Assists')\n",
        "top_10_assists"
      ]
    },
    {
      "cell_type": "code",
      "execution_count": null,
      "metadata": {
        "tags": [],
        "id": "gUJZJhswDgEn",
        "colab": {
          "base_uri": "https://localhost:8080/",
          "height": 636
        },
        "outputId": "6917383b-ff02-4e34-964d-6b95704280ab"
      },
      "outputs": [
        {
          "output_type": "display_data",
          "data": {
            "text/plain": [
              "<Figure size 1440x576 with 1 Axes>"
            ],
            "image/png": "[encoded data removed]"
          },
          "metadata": {}
        }
      ],
      "source": [
        "# Grafica del total de goles de cada club\n",
        "Goals_by_club = pd.DataFrame(epl.groupby('Club', as_index=False)['Goals'].sum())\n",
        "sns.set(style='whitegrid', color_codes=True)\n",
        "ax = sns.barplot(x='Club', y='Goals', data=Goals_by_club.sort_values(by='Goals'), palette='rocket')\n",
        "ax.set_xlabel('Club', fontsize=20)\n",
        "ax.set_ylabel('Goals', fontsize=20)\n",
        "plt.xticks(rotation=75)\n",
        "\n",
        "plt.rcParams['figure.figsize'] = (20,8)\n",
        "plt.title('Gráfica de Club vs. Total de Goles', fontsize=20)\n",
        "plt.show()"
      ]
    },
    {
      "cell_type": "code",
      "execution_count": null,
      "metadata": {
        "id": "VthZF29_DgEo",
        "colab": {
          "base_uri": "https://localhost:8080/",
          "height": 363
        },
        "outputId": "9190a0a5-3bf1-4aa3-c86b-405785264f70"
      },
      "outputs": [
        {
          "output_type": "execute_result",
          "data": {
            "text/plain": [
              "                      Name               Club  Goals  Matches\n",
              "162             Harry Kane  Tottenham Hotspur     23       35\n",
              "81           Mohamed Salah       Liverpool FC     22       37\n",
              "51         Bruno Fernandes  Manchester United     18       37\n",
              "161          Son Heung-min  Tottenham Hotspur     17       37\n",
              "214        Patrick Bamford       Leeds United     17       38\n",
              "237  Dominic Calvert-Lewin            Everton     16       33\n",
              "110            Jamie Vardy     Leicester City     15       34\n",
              "267          Ollie Watkins        Aston Villa     14       37\n",
              "33          İlkay Gündoğan    Manchester City     13       28\n",
              "191    Alexandre Lacazette            Arsenal     13       31"
            ],
            "text/html": [
              "\n",
              "  <div id=\"df-d50aed4b-8bf5-4e83-9a03-5fae4ca92e02\">\n",
              "    <div class=\"colab-df-container\">\n",
              "      <div>\n",
              "<style scoped>\n",
              "    .dataframe tbody tr th:only-of-type {\n",
              "        vertical-align: middle;\n",
              "    }\n",
              "\n",
              "    .dataframe tbody tr th {\n",
              "        vertical-align: top;\n",
              "    }\n",
              "\n",
              "    .dataframe thead th {\n",
              "        text-align: right;\n",
              "    }\n",
              "</style>\n",
              "<table border=\"1\" class=\"dataframe\">\n",
              "  <thead>\n",
              "    <tr style=\"text-align: right;\">\n",
              "      <th></th>\n",
              "      <th>Name</th>\n",
              "      <th>Club</th>\n",
              "      <th>Goals</th>\n",
              "      <th>Matches</th>\n",
              "    </tr>\n",
              "  </thead>\n",
              "  <tbody>\n",
              "    <tr>\n",
              "      <th>162</th>\n",
              "      <td>Harry Kane</td>\n",
              "      <td>Tottenham Hotspur</td>\n",
              "      <td>23</td>\n",
              "      <td>35</td>\n",
              "    </tr>\n",
              "    <tr>\n",
              "      <th>81</th>\n",
              "      <td>Mohamed Salah</td>\n",
              "      <td>Liverpool FC</td>\n",
              "      <td>22</td>\n",
              "      <td>37</td>\n",
              "    </tr>\n",
              "    <tr>\n",
              "      <th>51</th>\n",
              "      <td>Bruno Fernandes</td>\n",
              "      <td>Manchester United</td>\n",
              "      <td>18</td>\n",
              "      <td>37</td>\n",
              "    </tr>\n",
              "    <tr>\n",
              "      <th>161</th>\n",
              "      <td>Son Heung-min</td>\n",
              "      <td>Tottenham Hotspur</td>\n",
              "      <td>17</td>\n",
              "      <td>37</td>\n",
              "    </tr>\n",
              "    <tr>\n",
              "      <th>214</th>\n",
              "      <td>Patrick Bamford</td>\n",
              "      <td>Leeds United</td>\n",
              "      <td>17</td>\n",
              "      <td>38</td>\n",
              "    </tr>\n",
              "    <tr>\n",
              "      <th>237</th>\n",
              "      <td>Dominic Calvert-Lewin</td>\n",
              "      <td>Everton</td>\n",
              "      <td>16</td>\n",
              "      <td>33</td>\n",
              "    </tr>\n",
              "    <tr>\n",
              "      <th>110</th>\n",
              "      <td>Jamie Vardy</td>\n",
              "      <td>Leicester City</td>\n",
              "      <td>15</td>\n",
              "      <td>34</td>\n",
              "    </tr>\n",
              "    <tr>\n",
              "      <th>267</th>\n",
              "      <td>Ollie Watkins</td>\n",
              "      <td>Aston Villa</td>\n",
              "      <td>14</td>\n",
              "      <td>37</td>\n",
              "    </tr>\n",
              "    <tr>\n",
              "      <th>33</th>\n",
              "      <td>İlkay Gündoğan</td>\n",
              "      <td>Manchester City</td>\n",
              "      <td>13</td>\n",
              "      <td>28</td>\n",
              "    </tr>\n",
              "    <tr>\n",
              "      <th>191</th>\n",
              "      <td>Alexandre Lacazette</td>\n",
              "      <td>Arsenal</td>\n",
              "      <td>13</td>\n",
              "      <td>31</td>\n",
              "    </tr>\n",
              "  </tbody>\n",
              "</table>\n",
              "</div>\n",
              "      <button class=\"colab-df-convert\" onclick=\"convertToInteractive('df-d50aed4b-8bf5-4e83-9a03-5fae4ca92e02')\"\n",
              "              title=\"Convert this dataframe to an interactive table.\"\n",
              "              style=\"display:none;\">\n",
              "        \n",
              "  <svg xmlns=\"http://www.w3.org/2000/svg\" height=\"24px\"viewBox=\"0 0 24 24\"\n",
              "       width=\"24px\">\n",
              "    <path d=\"M0 0h24v24H0V0z\" fill=\"none\"/>\n",
              "    <path d=\"M18.56 5.44l.94 2.06.94-2.06 2.06-.94-2.06-.94-.94-2.06-.94 2.06-2.06.94zm-11 1L8.5 8.5l.94-2.06 2.06-.94-2.06-.94L8.5 2.5l-.94 2.06-2.06.94zm10 10l.94 2.06.94-2.06 2.06-.94-2.06-.94-.94-2.06-.94 2.06-2.06.94z\"/><path d=\"M17.41 7.96l-1.37-1.37c-.4-.4-.92-.59-1.43-.59-.52 0-1.04.2-1.43.59L10.3 9.45l-7.72 7.72c-.78.78-.78 2.05 0 2.83L4 21.41c.39.39.9.59 1.41.59.51 0 1.02-.2 1.41-.59l7.78-7.78 2.81-2.81c.8-.78.8-2.07 0-2.86zM5.41 20L4 18.59l7.72-7.72 1.47 1.35L5.41 20z\"/>\n",
              "  </svg>\n",
              "      </button>\n",
              "      \n",
              "  <style>\n",
              "    .colab-df-container {\n",
              "      display:flex;\n",
              "      flex-wrap:wrap;\n",
              "      gap: 12px;\n",
              "    }\n",
              "\n",
              "    .colab-df-convert {\n",
              "      background-color: #E8F0FE;\n",
              "      border: none;\n",
              "      border-radius: 50%;\n",
              "      cursor: pointer;\n",
              "      display: none;\n",
              "      fill: #1967D2;\n",
              "      height: 32px;\n",
              "      padding: 0 0 0 0;\n",
              "      width: 32px;\n",
              "    }\n",
              "\n",
              "    .colab-df-convert:hover {\n",
              "      background-color: #E2EBFA;\n",
              "      box-shadow: 0px 1px 2px rgba(60, 64, 67, 0.3), 0px 1px 3px 1px rgba(60, 64, 67, 0.15);\n",
              "      fill: #174EA6;\n",
              "    }\n",
              "\n",
              "    [theme=dark] .colab-df-convert {\n",
              "      background-color: #3B4455;\n",
              "      fill: #D2E3FC;\n",
              "    }\n",
              "\n",
              "    [theme=dark] .colab-df-convert:hover {\n",
              "      background-color: #434B5C;\n",
              "      box-shadow: 0px 1px 3px 1px rgba(0, 0, 0, 0.15);\n",
              "      filter: drop-shadow(0px 1px 2px rgba(0, 0, 0, 0.3));\n",
              "      fill: #FFFFFF;\n",
              "    }\n",
              "  </style>\n",
              "\n",
              "      <script>\n",
              "        const buttonEl =\n",
              "          document.querySelector('#df-d50aed4b-8bf5-4e83-9a03-5fae4ca92e02 button.colab-df-convert');\n",
              "        buttonEl.style.display =\n",
              "          google.colab.kernel.accessAllowed ? 'block' : 'none';\n",
              "\n",
              "        async function convertToInteractive(key) {\n",
              "          const element = document.querySelector('#df-d50aed4b-8bf5-4e83-9a03-5fae4ca92e02');\n",
              "          const dataTable =\n",
              "            await google.colab.kernel.invokeFunction('convertToInteractive',\n",
              "                                                     [key], {});\n",
              "          if (!dataTable) return;\n",
              "\n",
              "          const docLinkHtml = 'Like what you see? Visit the ' +\n",
              "            '<a target=\"_blank\" href=https://colab.research.google.com/notebooks/data_table.ipynb>data table notebook</a>'\n",
              "            + ' to learn more about interactive tables.';\n",
              "          element.innerHTML = '';\n",
              "          dataTable['output_type'] = 'display_data';\n",
              "          await google.colab.output.renderOutput(dataTable, element);\n",
              "          const docLink = document.createElement('div');\n",
              "          docLink.innerHTML = docLinkHtml;\n",
              "          element.appendChild(docLink);\n",
              "        }\n",
              "      </script>\n",
              "    </div>\n",
              "  </div>\n",
              "  "
            ]
          },
          "metadata": {},
          "execution_count": 38
        }
      ],
      "source": [
        "#Top 10 de  Goles por Jugador\n",
        "top_10_goals = epl[[\"Name\", 'Club', 'Goals','Matches']].nlargest(n=10, columns='Goals')\n",
        "top_10_goals"
      ]
    },
    {
      "cell_type": "code",
      "execution_count": null,
      "metadata": {
        "id": "f57WVtu1DgEo",
        "colab": {
          "base_uri": "https://localhost:8080/"
        },
        "outputId": "a11b83c0-e58c-4970-df25-08b8cefde72d"
      },
      "outputs": [
        {
          "output_type": "execute_result",
          "data": {
            "text/plain": [
              "Index(['Name', 'Club', 'Nationality', 'Position', 'Age', 'Matches', 'Starts',\n",
              "       'Mins', 'Goals', 'Assists', 'Passes_Attempted', 'Perc_Passes_Completed',\n",
              "       'Penalty_Goals', 'Penalty_Attempted', 'xG', 'xA', 'Yellow_Cards',\n",
              "       'Red_Cards', 'MinPerMatch', 'GoalsPerMatch'],\n",
              "      dtype='object')"
            ]
          },
          "metadata": {},
          "execution_count": 39
        }
      ],
      "source": [
        "epl.columns"
      ]
    },
    {
      "cell_type": "code",
      "execution_count": null,
      "metadata": {
        "tags": [],
        "id": "9pq7zZRoDgEo",
        "colab": {
          "base_uri": "https://localhost:8080/",
          "height": 363
        },
        "outputId": "97384d16-748c-42d5-f2a1-52962acf3ef4"
      },
      "outputs": [
        {
          "output_type": "execute_result",
          "data": {
            "text/plain": [
              "                      Name  GoalsPerMatch  Goals  Matches\n",
              "162             Harry Kane       0.657143     23       35\n",
              "81           Mohamed Salah       0.594595     22       37\n",
              "307            Joe Willock       0.571429      8       14\n",
              "145          Jesse Lingard       0.562500      9       16\n",
              "175            Gareth Bale       0.550000     11       20\n",
              "74          Anthony Elanga       0.500000      1        2\n",
              "51         Bruno Fernandes       0.486486     18       37\n",
              "237  Dominic Calvert-Lewin       0.484848     16       33\n",
              "120      Kelechi Iheanacho       0.480000     12       25\n",
              "92              Diogo Jota       0.473684      9       19"
            ],
            "text/html": [
              "\n",
              "  <div id=\"df-0a34d340-7063-41aa-ab45-eabdc33735b7\">\n",
              "    <div class=\"colab-df-container\">\n",
              "      <div>\n",
              "<style scoped>\n",
              "    .dataframe tbody tr th:only-of-type {\n",
              "        vertical-align: middle;\n",
              "    }\n",
              "\n",
              "    .dataframe tbody tr th {\n",
              "        vertical-align: top;\n",
              "    }\n",
              "\n",
              "    .dataframe thead th {\n",
              "        text-align: right;\n",
              "    }\n",
              "</style>\n",
              "<table border=\"1\" class=\"dataframe\">\n",
              "  <thead>\n",
              "    <tr style=\"text-align: right;\">\n",
              "      <th></th>\n",
              "      <th>Name</th>\n",
              "      <th>GoalsPerMatch</th>\n",
              "      <th>Goals</th>\n",
              "      <th>Matches</th>\n",
              "    </tr>\n",
              "  </thead>\n",
              "  <tbody>\n",
              "    <tr>\n",
              "      <th>162</th>\n",
              "      <td>Harry Kane</td>\n",
              "      <td>0.657143</td>\n",
              "      <td>23</td>\n",
              "      <td>35</td>\n",
              "    </tr>\n",
              "    <tr>\n",
              "      <th>81</th>\n",
              "      <td>Mohamed Salah</td>\n",
              "      <td>0.594595</td>\n",
              "      <td>22</td>\n",
              "      <td>37</td>\n",
              "    </tr>\n",
              "    <tr>\n",
              "      <th>307</th>\n",
              "      <td>Joe Willock</td>\n",
              "      <td>0.571429</td>\n",
              "      <td>8</td>\n",
              "      <td>14</td>\n",
              "    </tr>\n",
              "    <tr>\n",
              "      <th>145</th>\n",
              "      <td>Jesse Lingard</td>\n",
              "      <td>0.562500</td>\n",
              "      <td>9</td>\n",
              "      <td>16</td>\n",
              "    </tr>\n",
              "    <tr>\n",
              "      <th>175</th>\n",
              "      <td>Gareth Bale</td>\n",
              "      <td>0.550000</td>\n",
              "      <td>11</td>\n",
              "      <td>20</td>\n",
              "    </tr>\n",
              "    <tr>\n",
              "      <th>74</th>\n",
              "      <td>Anthony Elanga</td>\n",
              "      <td>0.500000</td>\n",
              "      <td>1</td>\n",
              "      <td>2</td>\n",
              "    </tr>\n",
              "    <tr>\n",
              "      <th>51</th>\n",
              "      <td>Bruno Fernandes</td>\n",
              "      <td>0.486486</td>\n",
              "      <td>18</td>\n",
              "      <td>37</td>\n",
              "    </tr>\n",
              "    <tr>\n",
              "      <th>237</th>\n",
              "      <td>Dominic Calvert-Lewin</td>\n",
              "      <td>0.484848</td>\n",
              "      <td>16</td>\n",
              "      <td>33</td>\n",
              "    </tr>\n",
              "    <tr>\n",
              "      <th>120</th>\n",
              "      <td>Kelechi Iheanacho</td>\n",
              "      <td>0.480000</td>\n",
              "      <td>12</td>\n",
              "      <td>25</td>\n",
              "    </tr>\n",
              "    <tr>\n",
              "      <th>92</th>\n",
              "      <td>Diogo Jota</td>\n",
              "      <td>0.473684</td>\n",
              "      <td>9</td>\n",
              "      <td>19</td>\n",
              "    </tr>\n",
              "  </tbody>\n",
              "</table>\n",
              "</div>\n",
              "      <button class=\"colab-df-convert\" onclick=\"convertToInteractive('df-0a34d340-7063-41aa-ab45-eabdc33735b7')\"\n",
              "              title=\"Convert this dataframe to an interactive table.\"\n",
              "              style=\"display:none;\">\n",
              "        \n",
              "  <svg xmlns=\"http://www.w3.org/2000/svg\" height=\"24px\"viewBox=\"0 0 24 24\"\n",
              "       width=\"24px\">\n",
              "    <path d=\"M0 0h24v24H0V0z\" fill=\"none\"/>\n",
              "    <path d=\"M18.56 5.44l.94 2.06.94-2.06 2.06-.94-2.06-.94-.94-2.06-.94 2.06-2.06.94zm-11 1L8.5 8.5l.94-2.06 2.06-.94-2.06-.94L8.5 2.5l-.94 2.06-2.06.94zm10 10l.94 2.06.94-2.06 2.06-.94-2.06-.94-.94-2.06-.94 2.06-2.06.94z\"/><path d=\"M17.41 7.96l-1.37-1.37c-.4-.4-.92-.59-1.43-.59-.52 0-1.04.2-1.43.59L10.3 9.45l-7.72 7.72c-.78.78-.78 2.05 0 2.83L4 21.41c.39.39.9.59 1.41.59.51 0 1.02-.2 1.41-.59l7.78-7.78 2.81-2.81c.8-.78.8-2.07 0-2.86zM5.41 20L4 18.59l7.72-7.72 1.47 1.35L5.41 20z\"/>\n",
              "  </svg>\n",
              "      </button>\n",
              "      \n",
              "  <style>\n",
              "    .colab-df-container {\n",
              "      display:flex;\n",
              "      flex-wrap:wrap;\n",
              "      gap: 12px;\n",
              "    }\n",
              "\n",
              "    .colab-df-convert {\n",
              "      background-color: #E8F0FE;\n",
              "      border: none;\n",
              "      border-radius: 50%;\n",
              "      cursor: pointer;\n",
              "      display: none;\n",
              "      fill: #1967D2;\n",
              "      height: 32px;\n",
              "      padding: 0 0 0 0;\n",
              "      width: 32px;\n",
              "    }\n",
              "\n",
              "    .colab-df-convert:hover {\n",
              "      background-color: #E2EBFA;\n",
              "      box-shadow: 0px 1px 2px rgba(60, 64, 67, 0.3), 0px 1px 3px 1px rgba(60, 64, 67, 0.15);\n",
              "      fill: #174EA6;\n",
              "    }\n",
              "\n",
              "    [theme=dark] .colab-df-convert {\n",
              "      background-color: #3B4455;\n",
              "      fill: #D2E3FC;\n",
              "    }\n",
              "\n",
              "    [theme=dark] .colab-df-convert:hover {\n",
              "      background-color: #434B5C;\n",
              "      box-shadow: 0px 1px 3px 1px rgba(0, 0, 0, 0.15);\n",
              "      filter: drop-shadow(0px 1px 2px rgba(0, 0, 0, 0.3));\n",
              "      fill: #FFFFFF;\n",
              "    }\n",
              "  </style>\n",
              "\n",
              "      <script>\n",
              "        const buttonEl =\n",
              "          document.querySelector('#df-0a34d340-7063-41aa-ab45-eabdc33735b7 button.colab-df-convert');\n",
              "        buttonEl.style.display =\n",
              "          google.colab.kernel.accessAllowed ? 'block' : 'none';\n",
              "\n",
              "        async function convertToInteractive(key) {\n",
              "          const element = document.querySelector('#df-0a34d340-7063-41aa-ab45-eabdc33735b7');\n",
              "          const dataTable =\n",
              "            await google.colab.kernel.invokeFunction('convertToInteractive',\n",
              "                                                     [key], {});\n",
              "          if (!dataTable) return;\n",
              "\n",
              "          const docLinkHtml = 'Like what you see? Visit the ' +\n",
              "            '<a target=\"_blank\" href=https://colab.research.google.com/notebooks/data_table.ipynb>data table notebook</a>'\n",
              "            + ' to learn more about interactive tables.';\n",
              "          element.innerHTML = '';\n",
              "          dataTable['output_type'] = 'display_data';\n",
              "          await google.colab.output.renderOutput(dataTable, element);\n",
              "          const docLink = document.createElement('div');\n",
              "          docLink.innerHTML = docLinkHtml;\n",
              "          element.appendChild(docLink);\n",
              "        }\n",
              "      </script>\n",
              "    </div>\n",
              "  </div>\n",
              "  "
            ]
          },
          "metadata": {},
          "execution_count": 40
        }
      ],
      "source": [
        "# Top 10 Goles por partido\n",
        "top_10_goals_per_matches = epl[[\"Name\", 'GoalsPerMatch', 'Goals','Matches']].nlargest(n=10, columns='GoalsPerMatch')\n",
        "top_10_goals_per_matches"
      ]
    },
    {
      "cell_type": "code",
      "source": [
        "epl.columns"
      ],
      "metadata": {
        "colab": {
          "base_uri": "https://localhost:8080/"
        },
        "id": "hSAwpequ_Par",
        "outputId": "3447bd21-5b84-4ce8-e26f-446429e35ec5"
      },
      "execution_count": null,
      "outputs": [
        {
          "output_type": "execute_result",
          "data": {
            "text/plain": [
              "Index(['Name', 'Club', 'Nationality', 'Position', 'Age', 'Matches', 'Starts',\n",
              "       'Mins', 'Goals', 'Assists', 'Passes_Attempted', 'Perc_Passes_Completed',\n",
              "       'Penalty_Goals', 'Penalty_Attempted', 'xG', 'xA', 'Yellow_Cards',\n",
              "       'Red_Cards', 'MinPerMatch', 'GoalsPerMatch'],\n",
              "      dtype='object')"
            ]
          },
          "metadata": {},
          "execution_count": 41
        }
      ]
    },
    {
      "cell_type": "code",
      "execution_count": null,
      "metadata": {
        "tags": [],
        "id": "1sBgvEEmDgEp",
        "colab": {
          "base_uri": "https://localhost:8080/",
          "height": 411
        },
        "outputId": "327e39c3-e177-409f-a2dc-f307540d6b70"
      },
      "outputs": [
        {
          "output_type": "display_data",
          "data": {
            "text/plain": [
              "<Figure size 1008x504 with 1 Axes>"
            ],
            "image/png": "[encoded data removed]"
          },
          "metadata": {}
        }
      ],
      "source": [
        "# Grafica Pi Chart - Goles con asistencia y Goles sin asistencia\n",
        "plt.figure(figsize=(14,7))\n",
        "assists = epl['Assists'].sum()\n",
        "data = [Total_Goals - assists, assists]\n",
        "nom = [\"Goles sin Asistencia\", \"Goles con Asistencia\"]\n",
        "colores= sns.color_palette(\"Set1\")\n",
        "plt.pie(data, labels=nom, colors=colores, autopct=\"%.0f%%\")\n",
        "plt.show()"
      ]
    },
    {
      "cell_type": "code",
      "execution_count": null,
      "metadata": {
        "tags": [],
        "id": "BeFnJ_EcDgEp",
        "colab": {
          "base_uri": "https://localhost:8080/",
          "height": 456
        },
        "outputId": "61332aca-f503-433f-f28f-c4968f316b5c"
      },
      "outputs": [
        {
          "output_type": "display_data",
          "data": {
            "text/plain": [
              "<Figure size 1440x432 with 1 Axes>"
            ],
            "image/png": "[encoded data removed]"
          },
          "metadata": {}
        }
      ],
      "source": [
        "#Top 10 jugadores con mas tarjetas amarillas\n",
        "epl_yellow = epl.sort_values(by='Yellow_Cards', ascending=False)[:10]\n",
        "plt.figure(figsize=(20,6))\n",
        "plt.title(\"Top 10 jugadores con mas tarjetas amarillas\", fontsize=20)\n",
        "c = sns.barplot(x = epl_yellow['Name'], y = epl_yellow['Yellow_Cards'],\n",
        "                label='Players', color='yellow')\n",
        "plt.ylabel(\"Numero de tarjetas amarrilas\")\n",
        "c.set_xticklabels(c.get_xticklabels(), rotation=45)\n",
        "c\n",
        "plt.show()"
      ]
    },
    {
      "cell_type": "markdown",
      "metadata": {
        "id": "pgpFZ7AWDgEp"
      },
      "source": [
        "![linea 2](https://user-images.githubusercontent.com/19308295/115926262-2fb62980-a448-11eb-8189-c2f10e499944.png)"
      ]
    },
    {
      "cell_type": "markdown",
      "metadata": {
        "id": "BIBAV1XFDgEp"
      },
      "source": [
        "## <font color=#33A5FF>****BIBLIOGRAFÍA****<tfont>"
      ]
    },
    {
      "cell_type": "markdown",
      "metadata": {
        "id": "vyvtrR7FDgEq"
      },
      "source": [
        "[1] Guía de pandas oficial https://pandas.pydata.org/docs/user_guide/index.html\n",
        "\n",
        "[2] Python Pandas Tutorial: A Complete Introduction for Beginners https://bit.ly/2AQMQld\n",
        "\n",
        "[3] Guía para pandas https://pybonacci.org/2014/05/30/pandas-i/\n",
        "\n",
        "[4] Dataset variados https://www.kaggle.com/datasets\n",
        "\n",
        "[5] SimpliLearn https://www.youtube.com/c/SimplilearnOfficial"
      ]
    },
    {
      "cell_type": "markdown",
      "metadata": {
        "id": "XL7TQsgzDgEq"
      },
      "source": [
        "![linea 1](https://user-images.githubusercontent.com/19308295/115926252-2b8a0c00-a448-11eb-9d9c-b43beaf0ff68.png)"
      ]
    }
  ],
  "metadata": {
    "kernelspec": {
      "display_name": "Python 3 (ipykernel)",
      "language": "python",
      "name": "python3"
    },
    "language_info": {
      "codemirror_mode": {
        "name": "ipython",
        "version": 3
      },
      "file_extension": ".py",
      "mimetype": "text/x-python",
      "name": "python",
      "nbconvert_exporter": "python",
      "pygments_lexer": "ipython3",
      "version": "3.8.12"
    },
    "colab": {
      "name": "Pandas Análisis de Datos (EPL) .ipynb",
      "provenance": [],
      "collapsed_sections": []
    }
  },
  "nbformat": 4,
  "nbformat_minor": 0
}